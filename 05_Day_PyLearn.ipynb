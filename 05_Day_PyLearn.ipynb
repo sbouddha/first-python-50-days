{
 "cells": [
  {
   "cell_type": "code",
   "execution_count": 2,
   "id": "6e30e840",
   "metadata": {},
   "outputs": [
    {
     "name": "stdout",
     "output_type": "stream",
     "text": [
      "Welcome to Day-5, we will learn about the Python Loops\n"
     ]
    }
   ],
   "source": [
    "print('Welcome to Day-5, we will learn about the Python Loops')"
   ]
  },
  {
   "cell_type": "code",
   "execution_count": 5,
   "id": "a8244f2d",
   "metadata": {},
   "outputs": [
    {
     "name": "stdout",
     "output_type": "stream",
     "text": [
      "Length of the list is 3\n",
      "Apple\n",
      "Peach\n",
      "Pear\n"
     ]
    }
   ],
   "source": [
    "#For loop\n",
    "fruits=['Apple','Peach','Pear']\n",
    "list_length=len(fruits)\n",
    "print(f'Length of the list is {list_length}')\n",
    "\n",
    "for fruit in fruits:\n",
    "    print(fruit)\n"
   ]
  },
  {
   "cell_type": "code",
   "execution_count": 4,
   "id": "928406fd",
   "metadata": {},
   "outputs": [
    {
     "name": "stdout",
     "output_type": "stream",
     "text": [
      "Apple\n",
      "Peach\n",
      "Pear\n",
      "['Apple', 'Peach', 'Pear']\n"
     ]
    }
   ],
   "source": [
    "#Password Generator\n",
    "fruits=['Apple','Peach','Pear']\n",
    "for fruit in fruits:\n",
    "    print(fruit)\n",
    "print(fruits)"
   ]
  },
  {
   "cell_type": "code",
   "execution_count": 12,
   "id": "13b5b6cf",
   "metadata": {},
   "outputs": [
    {
     "name": "stdout",
     "output_type": "stream",
     "text": [
      "The average of the students is 164\n"
     ]
    }
   ],
   "source": [
    "#Average height calculator\n",
    "student_heights=[180,124,165,173,189,169,146]\n",
    "\n",
    "denom=len(student_heights)\n",
    "numer=0\n",
    "\n",
    "for i in student_heights:\n",
    "    numer += i\n",
    "    \n",
    "avg=round(numer/denom)\n",
    "print(f'The average of the students is {avg}')"
   ]
  },
  {
   "cell_type": "code",
   "execution_count": 15,
   "id": "09fb6821",
   "metadata": {},
   "outputs": [
    {
     "name": "stdout",
     "output_type": "stream",
     "text": [
      "The average of the students is 164\n"
     ]
    }
   ],
   "source": [
    "#Average height calculator\n",
    "student_heights=[180,124,165,173,189,169,146]\n",
    "\n",
    "denom=len(student_heights)\n",
    "numer=0\n",
    "\n",
    "for height in student_heights:\n",
    "    numer += height\n",
    "    \n",
    "avg=round(numer/denom)\n",
    "print(f'The average of the students is {avg}')"
   ]
  },
  {
   "cell_type": "code",
   "execution_count": 14,
   "id": "e5582349",
   "metadata": {},
   "outputs": [
    {
     "name": "stdout",
     "output_type": "stream",
     "text": [
      "The average of the students is 164\n"
     ]
    }
   ],
   "source": [
    "#Average height calculator\n",
    "student_heights=[180,124,165,173,189,169,146]\n",
    "\n",
    "denom=len(student_heights)\n",
    "numer=sum(student_heights)\n",
    "\n",
    "avg=round(numer/denom)\n",
    "print(f'The average of the students is {avg}')"
   ]
  },
  {
   "cell_type": "code",
   "execution_count": 16,
   "id": "8da2c0a0",
   "metadata": {},
   "outputs": [
    {
     "name": "stdout",
     "output_type": "stream",
     "text": [
      "The maximus score is 189 \n"
     ]
    }
   ],
   "source": [
    "#Highest Score calulator\n",
    "student_score=[180,124,165,173,189,169,146]\n",
    "maximus=max(student_score)\n",
    "print (f'The maximus score is {maximus} ')"
   ]
  },
  {
   "cell_type": "code",
   "execution_count": 20,
   "id": "0bf54327",
   "metadata": {},
   "outputs": [
    {
     "name": "stdout",
     "output_type": "stream",
     "text": [
      "Highest score is 198 \n"
     ]
    }
   ],
   "source": [
    "#Highest Score calulator using for loop\n",
    "student_score=[180,198,165,173,189,169,150]\n",
    "\n",
    "maximum=0\n",
    "for score in student_score:\n",
    "    if score>maximum:\n",
    "        maximum=score\n",
    "print(f'Highest score is {maximum} ')\n",
    "    \n",
    "    "
   ]
  },
  {
   "cell_type": "code",
   "execution_count": 26,
   "id": "3e82059b",
   "metadata": {},
   "outputs": [
    {
     "name": "stdout",
     "output_type": "stream",
     "text": [
      "1\n",
      "2\n",
      "3\n",
      "4\n",
      "5\n",
      "6\n",
      "7\n",
      "8\n",
      "9\n"
     ]
    }
   ],
   "source": [
    "#for loop using range operator\n",
    "for number in range(1,10):\n",
    "    print(number)"
   ]
  },
  {
   "cell_type": "code",
   "execution_count": 27,
   "id": "7a645ceb",
   "metadata": {},
   "outputs": [
    {
     "name": "stdout",
     "output_type": "stream",
     "text": [
      "1\n",
      "3\n",
      "5\n",
      "7\n",
      "9\n"
     ]
    }
   ],
   "source": [
    "#for loop using range operator\n",
    "for number in range(1,10,2):\n",
    "    print(number)"
   ]
  },
  {
   "cell_type": "code",
   "execution_count": 23,
   "id": "4a1bdf90",
   "metadata": {},
   "outputs": [
    {
     "name": "stdout",
     "output_type": "stream",
     "text": [
      "The sum of all numbers is 5050 \n"
     ]
    }
   ],
   "source": [
    "#for loop using range operator\n",
    "#remember, the last value on range is not taken, so always take +1\n",
    "sum_numbers=0\n",
    "for i in range(0,101):\n",
    "    sum_numbers += i\n",
    "\n",
    "print(f'The sum of all numbers is {sum_numbers} ')\n"
   ]
  },
  {
   "cell_type": "code",
   "execution_count": 32,
   "id": "9cc68635",
   "metadata": {},
   "outputs": [
    {
     "name": "stdout",
     "output_type": "stream",
     "text": [
      "The sum of even digits is 2550\n"
     ]
    }
   ],
   "source": [
    "#Sum of Even numbers\n",
    "sum_of_even=0\n",
    "for i in range(2,101,2):\n",
    "    sum_of_even += i\n",
    "print(f'The sum of even digits is {sum_of_even}')"
   ]
  },
  {
   "cell_type": "code",
   "execution_count": 31,
   "id": "09f6b034",
   "metadata": {},
   "outputs": [
    {
     "name": "stdout",
     "output_type": "stream",
     "text": [
      "The sum of even digits is 2550\n"
     ]
    }
   ],
   "source": [
    "#Sum of Even numbers more logical\n",
    "sum_of_even=0\n",
    "for i in range(1,101):\n",
    "    if i%2==0:\n",
    "        sum_of_even += i\n",
    "print(f'The sum of even digits is {sum_of_even}')"
   ]
  },
  {
   "cell_type": "code",
   "execution_count": 36,
   "id": "71140361",
   "metadata": {},
   "outputs": [
    {
     "name": "stdout",
     "output_type": "stream",
     "text": [
      "1\n",
      "2\n",
      "Fizz\n",
      "4\n",
      "Buzz\n",
      "Fizz\n",
      "7\n",
      "8\n",
      "Fizz\n",
      "Buzz\n",
      "11\n",
      "Fizz\n",
      "13\n",
      "14\n",
      "FizzBuzz\n",
      "16\n",
      "17\n",
      "Fizz\n",
      "19\n"
     ]
    }
   ],
   "source": [
    "#FizzBuzz interview question, I love it :)\n",
    "#Learn to take superset\n",
    "\n",
    "for i in range(1,20):\n",
    "    if i%3==0 and i%5==0:\n",
    "        print('FizzBuzz')\n",
    "    elif i%3==0:\n",
    "        print('Fizz')\n",
    "    elif i%5==0:\n",
    "        print('Buzz')\n",
    "    else:\n",
    "        print(i)\n"
   ]
  },
  {
   "cell_type": "code",
   "execution_count": 54,
   "id": "0b7ccb77",
   "metadata": {},
   "outputs": [
    {
     "name": "stdout",
     "output_type": "stream",
     "text": [
      "Welcome to the PyPassword Generator!\n",
      "How many letters would you like in your password?\n",
      "5\n",
      "How many symbols would you like?\n",
      "5\n",
      "How many numbers would you like?\n",
      "5\n",
      "The generated password is cKldd%***(32091\n"
     ]
    }
   ],
   "source": [
    "#Password Generator Project Easy level\n",
    "import random\n",
    "letters = ['a', 'b', 'c', 'd', 'e', 'f', 'g', 'h', 'i', 'j', 'k', 'l', 'm', 'n', 'o', 'p', 'q', 'r', 's', 't', 'u', 'v', 'w', 'x', 'y', 'z', 'A', 'B', 'C', 'D', 'E', 'F', 'G', 'H', 'I', 'J', 'K', 'L', 'M', 'N', 'O', 'P', 'Q', 'R', 'S', 'T', 'U', 'V', 'W', 'X', 'Y', 'Z']\n",
    "numbers = ['0', '1', '2', '3', '4', '5', '6', '7', '8', '9']\n",
    "symbols = ['!', '#', '$', '%', '&', '(', ')', '*', '+']\n",
    "\n",
    "print(\"Welcome to the PyPassword Generator!\")\n",
    "nr_letters = int(input(\"How many letters would you like in your password?\\n\")) \n",
    "nr_symbols = int(input(f\"How many symbols would you like?\\n\"))\n",
    "nr_numbers = int(input(f\"How many numbers would you like?\\n\"))\n",
    "\n",
    "password=''\n",
    "for letter in range(0,nr_letters):\n",
    "    character=random.choice(letters)\n",
    "    password +=character\n",
    "\n",
    "for symbol in range(0,nr_symbols):\n",
    "    character=random.choice(symbols)\n",
    "    password +=character\n",
    "\n",
    "for letter in range(0,nr_numbers):\n",
    "    character=random.choice(numbers)\n",
    "    password +=character\n",
    "\n",
    "#This is without shuffle    \n",
    "print(f'The generated password is {password}')\n"
   ]
  },
  {
   "cell_type": "code",
   "execution_count": 69,
   "id": "20684f4e",
   "metadata": {},
   "outputs": [
    {
     "name": "stdout",
     "output_type": "stream",
     "text": [
      "Welcome to the PyPassword Generator!\n",
      "How many letters would you like in your password?\n",
      "2\n",
      "How many symbols would you like?\n",
      "2\n",
      "How many numbers would you like?\n",
      "2\n",
      "The simple generated password is mm#)80\n",
      "['m', 'm', '#', ')', '8', '0']\n",
      "['8', 'm', '0', ')', 'm', '#']\n",
      "The strong generated Password is: 8m0)m#\n"
     ]
    }
   ],
   "source": [
    "#Password Generator Project Hard level (Shuffle)\n",
    "import random\n",
    "letters = ['a', 'b', 'c', 'd', 'e', 'f', 'g', 'h', 'i', 'j', 'k', 'l', 'm', 'n', 'o', 'p', 'q', 'r', 's', 't', 'u', 'v', 'w', 'x', 'y', 'z', 'A', 'B', 'C', 'D', 'E', 'F', 'G', 'H', 'I', 'J', 'K', 'L', 'M', 'N', 'O', 'P', 'Q', 'R', 'S', 'T', 'U', 'V', 'W', 'X', 'Y', 'Z']\n",
    "numbers = ['0', '1', '2', '3', '4', '5', '6', '7', '8', '9']\n",
    "symbols = ['!', '#', '$', '%', '&', '(', ')', '*', '+']\n",
    "\n",
    "print(\"Welcome to the PyPassword Generator!\")\n",
    "nr_letters = int(input(\"How many letters would you like in your password?\\n\")) \n",
    "nr_symbols = int(input(f\"How many symbols would you like?\\n\"))\n",
    "nr_numbers = int(input(f\"How many numbers would you like?\\n\"))\n",
    "\n",
    "password=''\n",
    "for letter in range(0,nr_letters):\n",
    "    character=random.choice(letters)\n",
    "    password +=character\n",
    "\n",
    "for symbol in range(0,nr_symbols):\n",
    "    character=random.choice(symbols)\n",
    "    password +=character\n",
    "\n",
    "for letter in range(0,nr_numbers):\n",
    "    character=random.choice(numbers)\n",
    "    password +=character\n",
    "\n",
    "#This is without shuffle    \n",
    "print(f'The simple generated password is {password}')\n",
    "\n",
    "#create a list to shuffle\n",
    "password_list=list(password)\n",
    "print(password_list)\n",
    "\n",
    "#this is weird way, so remember it, we do not put the list in a new list here\n",
    "random.shuffle(password_list)\n",
    "print(password_list)\n",
    "\n",
    "#now we have shuffled password list, and we can use the for loop to add to a string\n",
    "password=''\n",
    "for shuffled_character in password_list:\n",
    "    password +=shuffled_character\n",
    "\n",
    "print(f'The strong generated Password is: {password}')\n"
   ]
  },
  {
   "cell_type": "code",
   "execution_count": 61,
   "id": "3d2ceab2",
   "metadata": {},
   "outputs": [
    {
     "name": "stdout",
     "output_type": "stream",
     "text": [
      "Welcome to the PyPassword Generator!\n",
      "How many letters would you like in your password?\n",
      "2\n",
      "How many symbols would you like?\n",
      "2\n",
      "How many numbers would you like?\n",
      "2\n",
      "The generated password is oJ+#86\n",
      "['o', 'J', '+', '#', '8', '6']\n",
      "['#', '6', '8', '+', 'J', 'o']\n",
      "The strong generated Password is: #68+Jo\n"
     ]
    }
   ],
   "source": [
    "#Password Generator Project Hard level (Shuffle)\n",
    "import random\n",
    "letters = ['a', 'b', 'c', 'd', 'e', 'f', 'g', 'h', 'i', 'j', 'k', 'l', 'm', 'n', 'o', 'p', 'q', 'r', 's', 't', 'u', 'v', 'w', 'x', 'y', 'z', 'A', 'B', 'C', 'D', 'E', 'F', 'G', 'H', 'I', 'J', 'K', 'L', 'M', 'N', 'O', 'P', 'Q', 'R', 'S', 'T', 'U', 'V', 'W', 'X', 'Y', 'Z']\n",
    "numbers = ['0', '1', '2', '3', '4', '5', '6', '7', '8', '9']\n",
    "symbols = ['!', '#', '$', '%', '&', '(', ')', '*', '+']\n",
    "\n",
    "print(\"Welcome to the PyPassword Generator!\")\n",
    "nr_letters = int(input(\"How many letters would you like in your password?\\n\")) \n",
    "nr_symbols = int(input(f\"How many symbols would you like?\\n\"))\n",
    "nr_numbers = int(input(f\"How many numbers would you like?\\n\"))\n",
    "\n",
    "password=''\n",
    "for letter in range(0,nr_letters):\n",
    "    character=random.choice(letters)\n",
    "    password +=character\n",
    "\n",
    "for symbol in range(0,nr_symbols):\n",
    "    character=random.choice(symbols)\n",
    "    password +=character\n",
    "\n",
    "for letter in range(0,nr_numbers):\n",
    "    character=random.choice(numbers)\n",
    "    password +=character\n",
    "\n",
    "#This is without shuffle    \n",
    "print(f'The generated password is {password}')\n",
    "\n",
    "#create a list to shuffle\n",
    "password_list=list(password)\n",
    "print(password_list)\n",
    "\n",
    "#this is weird way, so remember it, we do not put the list in a new list here\n",
    "random.shuffle(password_list)\n",
    "print(password_list)\n",
    "\n",
    "#this is also weid and need to be more practiced and remembered\n",
    "shuffled_password=''.join(password_list)\n",
    "print(f'The strong generated Password is: {shuffled_password}')\n",
    "\n"
   ]
  },
  {
   "cell_type": "code",
   "execution_count": 70,
   "id": "d81aaee3",
   "metadata": {},
   "outputs": [
    {
     "name": "stdout",
     "output_type": "stream",
     "text": [
      "Trust the process\n",
      "Huraah!!! Day-5 is completed :)\n"
     ]
    }
   ],
   "source": [
    "print('Trust the process\\nHuraah!!! Day-5 is completed :)')"
   ]
  }
 ],
 "metadata": {
  "kernelspec": {
   "display_name": "Python 3 (ipykernel)",
   "language": "python",
   "name": "python3"
  },
  "language_info": {
   "codemirror_mode": {
    "name": "ipython",
    "version": 3
   },
   "file_extension": ".py",
   "mimetype": "text/x-python",
   "name": "python",
   "nbconvert_exporter": "python",
   "pygments_lexer": "ipython3",
   "version": "3.11.2"
  }
 },
 "nbformat": 4,
 "nbformat_minor": 5
}
