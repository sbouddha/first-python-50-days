{
 "cells": [
  {
   "cell_type": "code",
   "execution_count": 1,
   "id": "34ad64e3",
   "metadata": {},
   "outputs": [
    {
     "name": "stdout",
     "output_type": "stream",
     "text": [
      "Trust The Process\n",
      "Welcome to Day-9, Today we will learn about Functions with outputs\n",
      "Project will be building a calculator \n"
     ]
    }
   ],
   "source": [
    "print('Trust The Process\\nWelcome to Day-9, Today we will learn about Functions with outputs')\n",
    "print('Project will be building a calculator ')"
   ]
  },
  {
   "cell_type": "code",
   "execution_count": 2,
   "id": "0794e087",
   "metadata": {},
   "outputs": [
    {
     "name": "stdout",
     "output_type": "stream",
     "text": [
      "The output from the function is 6\n"
     ]
    }
   ],
   "source": [
    "#Type of functions\n",
    "\n",
    "# Type 1:\n",
    "# def my_function():\n",
    "#     #Do This\n",
    "#     #Then do this\n",
    "    \n",
    "# Type 2:\n",
    "# def my_function(something):\n",
    "#     #Do This with something\n",
    "#     #Then do this\n",
    "\n",
    "# Type 3:\n",
    "def my_function():\n",
    "    result=3*2\n",
    "    return result\n",
    "\n",
    "funct_output=my_function()\n",
    "print(f'The output from the function is {funct_output}')"
   ]
  },
  {
   "cell_type": "code",
   "execution_count": 3,
   "id": "bb7f4ea9",
   "metadata": {},
   "outputs": [
    {
     "data": {
      "text/plain": [
       "6"
      ]
     },
     "execution_count": 3,
     "metadata": {},
     "output_type": "execute_result"
    }
   ],
   "source": [
    "def my_function_2():\n",
    "    result=3*2\n",
    "    return result\n",
    "\n",
    "my_function_2()"
   ]
  },
  {
   "cell_type": "code",
   "execution_count": 18,
   "id": "71a10569",
   "metadata": {},
   "outputs": [
    {
     "name": "stdout",
     "output_type": "stream",
     "text": [
      "Enter your first name: SIDDHARTH\n",
      "Enter your last name: bouddha\n",
      "The formatted full name is Siddharth Bouddha\n"
     ]
    },
    {
     "data": {
      "text/plain": [
       "'Siddharth Bouddha'"
      ]
     },
     "execution_count": 18,
     "metadata": {},
     "output_type": "execute_result"
    }
   ],
   "source": [
    "def format_name():\n",
    "    first_name=input('Enter your first name: ').title()\n",
    "    last_name=input('Enter your last name: ').title()\n",
    "    \n",
    "    full_name=first_name + ' ' + last_name\n",
    "    \n",
    "    print(f'The formatted full name is {full_name}')\n",
    "    return full_name\n",
    "    \n",
    "format_name()"
   ]
  },
  {
   "cell_type": "code",
   "execution_count": 17,
   "id": "7b19a79a",
   "metadata": {},
   "outputs": [
    {
     "name": "stdout",
     "output_type": "stream",
     "text": [
      "Enter your first name: SIDDHARTH\n",
      "Enter your last name: bouddha\n",
      "Siddharth Bouddha\n"
     ]
    }
   ],
   "source": [
    "def format_name(f_name,l_name):\n",
    "    full_name=f_name + ' ' + l_name\n",
    "    return full_name\n",
    "\n",
    "first_name=input('Enter your first name: ').title()\n",
    "last_name=input('Enter your last name: ').title()\n",
    "\n",
    "result=format_name(first_name,last_name)\n",
    "print(result)\n"
   ]
  },
  {
   "cell_type": "code",
   "execution_count": 20,
   "id": "77b1d752",
   "metadata": {},
   "outputs": [
    {
     "name": "stdout",
     "output_type": "stream",
     "text": [
      "Enter your first name: SIDDHARTH\n",
      "Enter your last name: bouddha\n"
     ]
    },
    {
     "data": {
      "text/plain": [
       "'Siddharth Bouddha'"
      ]
     },
     "execution_count": 20,
     "metadata": {},
     "output_type": "execute_result"
    }
   ],
   "source": [
    "def format_name():\n",
    "    first_name=input('Enter your first name: ').title()\n",
    "    last_name=input('Enter your last name: ').title()\n",
    "    \n",
    "    return f'{first_name} {last_name}'\n",
    "    \n",
    "format_name()"
   ]
  },
  {
   "cell_type": "code",
   "execution_count": 22,
   "id": "49cf00fb",
   "metadata": {},
   "outputs": [
    {
     "name": "stdout",
     "output_type": "stream",
     "text": [
      "Siddharth Bouddha\n"
     ]
    }
   ],
   "source": [
    "def format_name(first_name,last_name,):\n",
    "    formated_first_name=first_name.title()\n",
    "    formated_last_name=last_name.title()\n",
    "    \n",
    "    return f'{formated_first_name} {formated_last_name}'\n",
    "    \n",
    "Corrected_Name=format_name('SIDDHARTH','bouddha')\n",
    "print(Corrected_Name)"
   ]
  },
  {
   "cell_type": "code",
   "execution_count": 23,
   "id": "a6b5092c",
   "metadata": {},
   "outputs": [
    {
     "name": "stdout",
     "output_type": "stream",
     "text": [
      "Pratima Kumari\n"
     ]
    }
   ],
   "source": [
    "outpu=format_name('pratima','kumari')\n",
    "print(outpu)"
   ]
  },
  {
   "cell_type": "code",
   "execution_count": null,
   "id": "6a74df1f",
   "metadata": {},
   "outputs": [],
   "source": [
    "#Note: After return, nothing is executed\n",
    "#You can have multiple retruns in a function"
   ]
  },
  {
   "cell_type": "code",
   "execution_count": 30,
   "id": "3016c6f5",
   "metadata": {},
   "outputs": [
    {
     "name": "stdout",
     "output_type": "stream",
     "text": [
      "Enter a year: 2020\n",
      "Enter a month: 2\n",
      "29\n"
     ]
    }
   ],
   "source": [
    "#Function to tell the number of days in a month\n",
    "def is_leap_year(year):\n",
    "    if year%400==0:\n",
    "        return True\n",
    "    elif year%100==0:\n",
    "        return False\n",
    "    elif year%4==0:\n",
    "        return True\n",
    "    else:\n",
    "        return False\n",
    "\n",
    "    \n",
    "def days_in_month(year, month):\n",
    "    month_days = [31, 28, 31, 30, 31, 30, 31, 31, 30, 31, 30, 31]\n",
    "    month_days_leap = [31, 29, 31, 30, 31, 30, 31, 31, 30, 31, 30, 31]\n",
    "\n",
    "    if month<1 or month>12:\n",
    "        return f'Enter Valid Month'\n",
    "    else:\n",
    "        if is_leap_year(year):\n",
    "            return f'{month_days_leap[month-1]}'\n",
    "        else:\n",
    "            return f'{month_days[month-1]}'\n",
    "\n",
    "\n",
    "#Do NOT change any of the code below 👇\n",
    "year = int(input(\"Enter a year: \"))\n",
    "month = int(input(\"Enter a month: \"))\n",
    "days = days_in_month(year, month)\n",
    "print(days)"
   ]
  },
  {
   "cell_type": "code",
   "execution_count": 32,
   "id": "cb1c7233",
   "metadata": {},
   "outputs": [],
   "source": [
    "#Docstrings in Python\n",
    "def is_leap_year(year):\n",
    "    \"\"\"Tells if year is a leap year or not\"\"\"\n",
    "    if year%400==0:\n",
    "        return True\n",
    "    elif year%100==0:\n",
    "        return False\n",
    "    elif year%4==0:\n",
    "        return True\n",
    "    else:\n",
    "        return False\n"
   ]
  },
  {
   "cell_type": "code",
   "execution_count": 33,
   "id": "a15f1f08",
   "metadata": {},
   "outputs": [
    {
     "name": "stdout",
     "output_type": "stream",
     "text": [
      "15\n"
     ]
    }
   ],
   "source": [
    "def outer_function(a, b):\n",
    "    def inner_function(c, d):\n",
    "        return c + d\n",
    "    return inner_function(a, b)\n",
    " \n",
    "result = outer_function(5, 10)\n",
    "print(result)"
   ]
  },
  {
   "cell_type": "code",
   "execution_count": 2,
   "id": "bc43be77",
   "metadata": {},
   "outputs": [
    {
     "name": "stdout",
     "output_type": "stream",
     "text": [
      "What is the first number5\n",
      "+\n",
      "-\n",
      "*\n",
      "/\n",
      "Pick an operator from the line above+\n",
      "What is the second number5\n",
      "5 + 5 = 10\n",
      "Pick another operator*\n",
      "What is the number you want to do operation with2\n",
      "10 * 2 = 20\n"
     ]
    }
   ],
   "source": [
    "#Calculator just 2 operations max2\n",
    "#Add, substract, multiply, divide functions\n",
    "def add(n1,n2):\n",
    "    return n1 + n2\n",
    "\n",
    "def substract(n1,n2):\n",
    "    return n1 - n2\n",
    "\n",
    "def multiply(n1,n2):\n",
    "    return n1 * n2\n",
    "\n",
    "def divide(n1,n2):\n",
    "    return n1 / n2\n",
    "\n",
    "#Create a dictionary\n",
    "operations={\n",
    "    '+' : add,\n",
    "    '-' : substract,\n",
    "    '*' : multiply,\n",
    "    '/' : divide\n",
    "}\n",
    "\n",
    "num1=int(input('What is the first number'))\n",
    "\n",
    "for operators in operations:\n",
    "    print(operators)\n",
    "\n",
    "user_operator=input('Pick an operator from the line above')\n",
    "num2=int(input('What is the second number'))\n",
    "to_call_func = operations[user_operator]\n",
    "\n",
    "result_1=to_call_func(num1,num2)\n",
    "\n",
    "print(f'{num1} {user_operator} {num2} = {result_1}')\n",
    "\n",
    "user_operator=input('Pick another operator')\n",
    "to_call_func = operations[user_operator]\n",
    "num3=int(input('What is the number you want to do operation with'))\n",
    "\n",
    "result_2=to_call_func(result_1,num3)\n",
    "print(f'{result_1} {user_operator} {num3} = {result_2}')\n",
    "\n",
    "\n",
    "\n"
   ]
  },
  {
   "cell_type": "code",
   "execution_count": 4,
   "id": "7b2f5e7a",
   "metadata": {},
   "outputs": [
    {
     "name": "stdout",
     "output_type": "stream",
     "text": [
      "What is the first number 5\n",
      "+\n",
      "-\n",
      "*\n",
      "/\n",
      "Pick an operator  +\n",
      "What is the second number 10\n",
      "5 + 10 = 15\n",
      "Do you want to calculate more? y/n : y\n",
      "Pick an operator *\n",
      "What is the next number 2\n",
      "15 * 2 = 30\n",
      "Do you want to calculate more? y/n : y\n",
      "Pick an operator +\n",
      "What is the next number 15\n",
      "30 + 15 = 45\n",
      "Do you want to calculate more? y/n : n\n",
      "Thank you for using Sid Calculator\n"
     ]
    }
   ],
   "source": [
    "#Calculator My code\n",
    "\n",
    "def add(n1,n2):\n",
    "    return n1 + n2\n",
    "\n",
    "def substract(n1,n2):\n",
    "    return n1 - n2\n",
    "\n",
    "def multiply(n1,n2):\n",
    "    return n1 * n2\n",
    "\n",
    "def divide(n1,n2):\n",
    "    return n1 / n2\n",
    "\n",
    "#Create a dictionary\n",
    "operations={\n",
    "    '+' : add,\n",
    "    '-' : substract,\n",
    "    '*' : multiply,\n",
    "    '/' : divide\n",
    "}\n",
    "\n",
    "\n",
    "def calc1():\n",
    "    num1=float(input('What is the first number '))\n",
    "\n",
    "    for operators in operations:\n",
    "        print(operators)\n",
    "\n",
    "    user_operator=input('Pick an operator  ')\n",
    "    num2=float(input('What is the second number '))\n",
    "    to_call_func = operations[user_operator]\n",
    "\n",
    "    result_1=to_call_func(num1,num2)\n",
    "    print(f'{num1} {user_operator} {num2} = {result_1}')\n",
    "    return result_1\n",
    "\n",
    "\n",
    "def calc2(first_num):\n",
    "    user_operator=input('Pick an operator ')\n",
    "    to_call_func = operations[user_operator]\n",
    "    second_num=float(input('What is the next number '))\n",
    "    \n",
    "    result_2=to_call_func(first_num,second_num)\n",
    "    print(f'{first_num} {user_operator} {second_num} = {result_2}')\n",
    "    return result_2\n",
    "\n",
    "\n",
    "def more_cal():\n",
    "    more_calc=input('Do you want to calculate more? y/n : ')\n",
    "    if more_calc.lower()=='y':\n",
    "        return True\n",
    "    else:\n",
    "        print('Thank you for using Sid Calculator')\n",
    "        return False\n",
    "    \n",
    "    \n",
    "def calculator():\n",
    "    first_num=calc1()\n",
    "    while more_cal():\n",
    "        first_num=calc2(first_num)\n",
    "        \n",
    "\n",
    "calculator()\n"
   ]
  },
  {
   "cell_type": "code",
   "execution_count": null,
   "id": "281ec4fd",
   "metadata": {},
   "outputs": [
    {
     "name": "stdout",
     "output_type": "stream",
     "text": [
      "What's the first number?: 5\n",
      "+\n",
      "-\n",
      "*\n",
      "/\n",
      "Pick an operation: +\n",
      "What's the next number?: 5\n",
      "5.0 + 5.0 = 10.0\n",
      "Type 'y' to continue calculating with 10.0, or type 'n' to start a new calculation: y\n",
      "Pick an operation: -\n",
      "What's the next number?: 3\n",
      "10.0 - 3.0 = 7.0\n",
      "Type 'y' to continue calculating with 7.0, or type 'n' to start a new calculation: n\n"
     ]
    }
   ],
   "source": [
    "#Angela Code for Calculator\n",
    "\n",
    "def add(n1, n2):\n",
    "    return n1 + n2\n",
    "\n",
    "def subtract(n1, n2):\n",
    "    return n1 - n2\n",
    "\n",
    "def multiply(n1, n2):\n",
    "    return n1 * n2\n",
    "\n",
    "def divide(n1, n2):\n",
    "    return n1 / n2\n",
    "\n",
    "operations = {\n",
    "  \"+\": add,\n",
    "  \"-\": subtract,\n",
    "  \"*\": multiply,\n",
    "  \"/\": divide\n",
    "}\n",
    "\n",
    "def calculator_angela():\n",
    "    \n",
    "    num1 = float(input(\"What's the first number?: \"))\n",
    "    for symbol in operations:\n",
    "        print(symbol)\n",
    "    should_continue = True \n",
    "  \n",
    "    while should_continue:\n",
    "        operation_symbol = input(\"Pick an operation: \")\n",
    "        num2 = float(input(\"What's the next number?: \"))\n",
    "        calculation_function = operations[operation_symbol]\n",
    "        answer = calculation_function(num1, num2)\n",
    "        print(f\"{num1} {operation_symbol} {num2} = {answer}\")\n",
    "\n",
    "        if input(f\"Type 'y' to continue calculating with {answer}, or type 'n' to start a new calculation: \") == 'y':\n",
    "            num1 = answer\n",
    "        else:\n",
    "            should_continue = False\n",
    "            calculator_angela()\n",
    "\n",
    "calculator_angela()\n"
   ]
  },
  {
   "cell_type": "code",
   "execution_count": 1,
   "id": "9a450609",
   "metadata": {},
   "outputs": [
    {
     "name": "stdout",
     "output_type": "stream",
     "text": [
      "Trust The Process\n",
      "Hurrah!!! Day-10 Completed\n"
     ]
    }
   ],
   "source": [
    "print('Trust The Process\\nHurrah!!! Day-10 Completed')"
   ]
  }
 ],
 "metadata": {
  "kernelspec": {
   "display_name": "Python 3 (ipykernel)",
   "language": "python",
   "name": "python3"
  },
  "language_info": {
   "codemirror_mode": {
    "name": "ipython",
    "version": 3
   },
   "file_extension": ".py",
   "mimetype": "text/x-python",
   "name": "python",
   "nbconvert_exporter": "python",
   "pygments_lexer": "ipython3",
   "version": "3.11.2"
  }
 },
 "nbformat": 4,
 "nbformat_minor": 5
}
