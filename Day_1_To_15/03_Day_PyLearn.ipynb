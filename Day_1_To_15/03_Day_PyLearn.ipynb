{
 "cells": [
  {
   "cell_type": "code",
   "execution_count": 3,
   "id": "9235ff56",
   "metadata": {},
   "outputs": [
    {
     "name": "stdout",
     "output_type": "stream",
     "text": [
      "Welcome to Day-3, here we will learn about the Control flow and Logical Operators\n"
     ]
    }
   ],
   "source": [
    "print('Welcome to Day-3, here we will learn about the Control flow and Logical Operators')"
   ]
  },
  {
   "cell_type": "code",
   "execution_count": 5,
   "id": "e5855cb4",
   "metadata": {},
   "outputs": [
    {
     "name": "stdout",
     "output_type": "stream",
     "text": [
      "Keep on filling the water\n"
     ]
    }
   ],
   "source": [
    "#Learning if-else in Python\n",
    "water_level=50\n",
    "\n",
    "if water_level>80:\n",
    "    print('Drain the Water')\n",
    "else:\n",
    "    print('Keep on filling the water')    "
   ]
  },
  {
   "cell_type": "code",
   "execution_count": 13,
   "id": "e77590b4",
   "metadata": {},
   "outputs": [
    {
     "name": "stdout",
     "output_type": "stream",
     "text": [
      "Keep on filling\n"
     ]
    }
   ],
   "source": [
    "#Learning if-else in Python\n",
    "water_level=50\n",
    "\n",
    "if water_level>80:\n",
    "    print('Drain the water')\n",
    "else:\n",
    "    print('Keep on filling')"
   ]
  },
  {
   "cell_type": "code",
   "execution_count": 17,
   "id": "40f9fc00",
   "metadata": {},
   "outputs": [
    {
     "name": "stdout",
     "output_type": "stream",
     "text": [
      "Welcome to the Lillestrom Roller Coaster\n",
      "What is your height in cm ?: 120\n",
      "Bring your parents please\n"
     ]
    }
   ],
   "source": [
    "#RollerCoaster height-ticket check code\n",
    "print('Welcome to the Lillestrom Roller Coaster')\n",
    "height = int(input('What is your height in cm ?: '))\n",
    "\n",
    "#Checking height for selling the tickets\n",
    "if height > 120:\n",
    "    print('Please proceed to buy the tickets')\n",
    "else:\n",
    "    print('Bring your parents please')\n"
   ]
  },
  {
   "cell_type": "code",
   "execution_count": 21,
   "id": "28fb402a",
   "metadata": {},
   "outputs": [
    {
     "name": "stdout",
     "output_type": "stream",
     "text": [
      "Please enter a number to check even/odd-10\n",
      "Number is even\n"
     ]
    }
   ],
   "source": [
    "#Logical Operator\n",
    "#even-odd check\n",
    "\n",
    "num = int(input('Please enter a number to check even/odd'))\n",
    "if num%2 == 0:\n",
    "    print('Number is even')\n",
    "else:\n",
    "    print('Number is odd')"
   ]
  },
  {
   "cell_type": "code",
   "execution_count": 27,
   "id": "d227c2c7",
   "metadata": {},
   "outputs": [
    {
     "name": "stdout",
     "output_type": "stream",
     "text": [
      "Welcome to Lillestrom RollerCoaster\n",
      "Enter your age: 8\n",
      "You are allowed to buy the tickets\n",
      "Ticket price is: NOK 75\n"
     ]
    }
   ],
   "source": [
    "#Nested ifs\n",
    "print('Welcome to Lillestrom RollerCoaster')\n",
    "age = int(input('Enter your age: '))\n",
    "\n",
    "#Nested if starts\n",
    "if age >=7:\n",
    "    print('You are allowed to buy the tickets')\n",
    "    if age>18:\n",
    "        print('Ticket price is: NOK 100')\n",
    "    else:\n",
    "        print('Ticket price is: NOK 75')\n",
    "else:\n",
    "    print('You are too young to take this ride')"
   ]
  },
  {
   "cell_type": "code",
   "execution_count": 33,
   "id": "290b9cee",
   "metadata": {},
   "outputs": [
    {
     "name": "stdout",
     "output_type": "stream",
     "text": [
      "Welcome to Lillestrom RollerCoaster\n",
      "Please enter your height in cm: 173\n",
      "You are allowed to take the ride\n",
      "What is your age? 33\n",
      "The ticket price is NOK 120\n"
     ]
    }
   ],
   "source": [
    "#elif practice\n",
    "print('Welcome to Lillestrom RollerCoaster')\n",
    "\n",
    "height=int(input('Please enter your height in cm: '))\n",
    "\n",
    "if height>120:\n",
    "    print('You are allowed to take the ride')\n",
    "    age = int(input('What is your age? '))\n",
    "    if age >18:\n",
    "        print('The ticket price is NOK 120')\n",
    "    elif age<12:\n",
    "        print('The ticket price is NOK 50')\n",
    "    else:\n",
    "        print('The ticket price is NOK 70')\n",
    "    \n",
    "else:\n",
    "    print('Grow your height to take this ride')"
   ]
  },
  {
   "cell_type": "code",
   "execution_count": 48,
   "id": "9078d3f2",
   "metadata": {},
   "outputs": [
    {
     "name": "stdout",
     "output_type": "stream",
     "text": [
      "This is a BMI calculator\n",
      "Enter your weight in KGs: 65\n",
      "Enter your height in Meters: 1.75\n",
      "Your BMI is : 21.22\n",
      "Normal Weight\n"
     ]
    }
   ],
   "source": [
    "#BMI calculator using elif\n",
    "print('This is a BMI calculator')\n",
    "\n",
    "weight=float(input('Enter your weight in KGs: '))\n",
    "height=float(input('Enter your height in Meters: '))\n",
    "bmi=weight/(height**2)\n",
    "\n",
    "print(f'Your BMI is : {bmi:.2f}')\n",
    "\n",
    "if bmi<=35:\n",
    "    if bmi<=18.5:\n",
    "        print('Underweight')\n",
    "    elif bmi>18.5 and bmi <=25:\n",
    "        print('Normal Weight')\n",
    "    elif bmi>25 and bmi<=30:\n",
    "        print('Overweight')\n",
    "    elif bmi>30 and bmi<=35:\n",
    "        print('Obese')\n",
    "else:\n",
    "    print('Clinically Obese')\n",
    "    \n"
   ]
  },
  {
   "cell_type": "code",
   "execution_count": 52,
   "id": "c3f6bc33",
   "metadata": {},
   "outputs": [
    {
     "name": "stdout",
     "output_type": "stream",
     "text": [
      "Input the year to check: 2100\n",
      "Not a Leap year\n"
     ]
    }
   ],
   "source": [
    "#Leap year finder, Method:1\n",
    "year=int(input('Input the year to check: '))\n",
    "\n",
    "if year%4==0:\n",
    "    if year%100==0:\n",
    "        if year%400==0:\n",
    "            print('Leap Year')\n",
    "        else:\n",
    "            print('Not a Leap year')\n",
    "    else:\n",
    "        print('Leap year')\n",
    "else:\n",
    "    print('Not a Leap year')\n"
   ]
  },
  {
   "cell_type": "code",
   "execution_count": 2,
   "id": "4961ba75",
   "metadata": {},
   "outputs": [
    {
     "name": "stdout",
     "output_type": "stream",
     "text": [
      "Enter the year2100\n",
      "Not a Leap year\n"
     ]
    }
   ],
   "source": [
    "#Leap year . Pratima Method\n",
    "year = int(input('Enter the year'))\n",
    "\n",
    "if year%4==0 and year%400==0:\n",
    "    print('Leap year')\n",
    "elif year%100==0:\n",
    "    print('Not a Leap year')\n",
    "else:\n",
    "    print('Not a Leap year')"
   ]
  },
  {
   "cell_type": "code",
   "execution_count": 1,
   "id": "095f47fb",
   "metadata": {},
   "outputs": [
    {
     "name": "stdout",
     "output_type": "stream",
     "text": [
      "Welcome to Lillestrom RollerCoaster \n",
      "we also provide photos :)\n",
      "Please enter your height in cm: 173\n",
      "You are allowed to take the ride\n",
      "What is your age? 8\n",
      "Do you want a photo ? Y/NY\n",
      "The ticket price is NOK 80\n"
     ]
    }
   ],
   "source": [
    "#elif practice\n",
    "print('Welcome to Lillestrom RollerCoaster \\nwe also provide photos :)')\n",
    "\n",
    "height=int(input('Please enter your height in cm: '))\n",
    "\n",
    "if height>120:\n",
    "    print('You are allowed to take the ride')\n",
    "    age = int(input('What is your age? '))\n",
    "    photo=input('Do you want a photo ? Y/N')\n",
    "    if age >18:\n",
    "        bill=120\n",
    "        if photo=='Y':\n",
    "            bill=bill+30\n",
    "            print(f'The ticket price is NOK {bill}')\n",
    "        else:\n",
    "            print(f'The ticket price is NOK {bill}')\n",
    "    elif age<12:\n",
    "        bill=50\n",
    "        if photo=='Y':\n",
    "            bill=bill+30\n",
    "            print(f'The ticket price is NOK {bill}')\n",
    "    else:\n",
    "        bill=70\n",
    "        if photo=='Y':\n",
    "            bill=bill+30\n",
    "            print(f'The ticket price is NOK {bill}')\n",
    "else:\n",
    "    print('Grow your height to take this ride')"
   ]
  },
  {
   "cell_type": "code",
   "execution_count": 14,
   "id": "651a024f",
   "metadata": {},
   "outputs": [
    {
     "name": "stdout",
     "output_type": "stream",
     "text": [
      "Welcome to Lillestrom Pizza Shop\n",
      "Choose the Size of the Pizza (S/M/L) : L\n",
      "Do you want extra pepperoni ? (Y/N) : Y\n",
      "Do you want extra cheese ? (Y/N) : N\n",
      "Cost os Pizza is 280\n"
     ]
    }
   ],
   "source": [
    "#Pizza shop\n",
    "print('Welcome to Lillestrom Pizza Shop')\n",
    "\n",
    "size=input('Choose the Size of the Pizza (S/M/L) : ')\n",
    "add_pepperoni = input('Do you want extra pepperoni ? (Y/N) : ')\n",
    "extra_cheese = input('Do you want extra cheese ? (Y/N) : ')\n",
    "#Pizza costs\n",
    "Cost_Pizza_S=150\n",
    "Cost_Pizza_M=200\n",
    "Cost_Pizza_L=250\n",
    "#Add-on costs\n",
    "Cost_pepperoni_S=20\n",
    "Cost_pepperoni_ML=30\n",
    "Cost_Extra_Cheese=10\n",
    "\n",
    "if size=='S':\n",
    "    if add_pepperoni=='Y' and extra_cheese=='Y':\n",
    "        total=Cost_Pizza_S+Cost_pepperoni_S+Cost_Extra_Cheese\n",
    "        print(f'Cost os Pizza is {total}')\n",
    "    elif extra_cheese=='Y':\n",
    "        total=Cost_Pizza_S+Cost_Extra_Cheese\n",
    "        print(f'Cost os Pizza is {total}')\n",
    "    elif add_pepperoni=='Y':\n",
    "        total=Cost_Pizza_S+Cost_pepperoni_S\n",
    "        print(f'Cost os Pizza is {total}')\n",
    "    elif add_pepperoni=='N' and extra_cheese=='N':\n",
    "        total=Cost_Pizza_S\n",
    "        print(f'Cost os Pizza is {total}')\n",
    "elif size=='M':\n",
    "    if add_pepperoni=='Y' and extra_cheese=='Y':\n",
    "        total=Cost_Pizza_M+Cost_pepperoni_ML+Cost_Extra_Cheese\n",
    "        print(f'Cost os Pizza is {total}')\n",
    "    elif extra_cheese=='Y':\n",
    "        total=Cost_Pizza_M+Cost_Extra_Cheese\n",
    "        print(f'Cost os Pizza is {total}')\n",
    "    elif add_pepperoni=='Y':\n",
    "        total=Cost_Pizza_M+Cost_pepperoni_ML\n",
    "        print(f'Cost os Pizza is {total}')\n",
    "    elif add_pepperoni=='N' and extra_cheese=='N':\n",
    "        total=Cost_Pizza_M\n",
    "        print(f'Cost os Pizza is {total}')\n",
    "elif size=='L':\n",
    "    if add_pepperoni=='Y' and extra_cheese=='Y':\n",
    "        total=Cost_Pizza_L+Cost_pepperoni_ML+Cost_Extra_Cheese\n",
    "        print(f'Cost os Pizza is {total}')\n",
    "    elif extra_cheese=='Y':\n",
    "        total=Cost_Pizza_L+Cost_Extra_Cheese\n",
    "        print(f'Cost os Pizza is {total}')\n",
    "    elif add_pepperoni=='Y':\n",
    "        total=Cost_Pizza_L+Cost_pepperoni_ML\n",
    "        print(f'Cost os Pizza is {total}')\n",
    "    elif add_pepperoni=='N' and extra_cheese=='N':\n",
    "        total=Cost_Pizza_L\n",
    "        print(f'Cost os Pizza is {total}')   \n"
   ]
  },
  {
   "cell_type": "code",
   "execution_count": 19,
   "id": "1209c9e7",
   "metadata": {},
   "outputs": [
    {
     "name": "stdout",
     "output_type": "stream",
     "text": [
      "Welcome to Lillestrom Pizza Shop\n",
      "Choose the Size of the Pizza (S/M/L) : l\n",
      "Do you want extra pepperoni ? (Y/N) : y\n",
      "Do you want extra cheese ? (Y/N) : n\n",
      "Your final bill is 0\n"
     ]
    }
   ],
   "source": [
    "#Now write it in smart way\n",
    "print('Welcome to Lillestrom Pizza Shop')\n",
    "\n",
    "size=input('Choose the Size of the Pizza (S/M/L) : ')\n",
    "add_pepperoni = input('Do you want extra pepperoni ? (Y/N) : ')\n",
    "extra_cheese = input('Do you want extra cheese ? (Y/N) : ')\n",
    "\n",
    "bill=0\n",
    "#Normal Cost\n",
    "if size=='S':\n",
    "    bill += 150\n",
    "elif size=='M':\n",
    "    bill += 200\n",
    "elif size=='L':\n",
    "    bill += 250\n",
    "#Extra Pepperoni\n",
    "if add_pepperoni=='Y':\n",
    "    if size=='S':\n",
    "        bill += 20\n",
    "    else:\n",
    "         bill += 30\n",
    "#Extra Cheese\n",
    "if extra_cheese=='Y':\n",
    "    bill +=10\n",
    "    \n",
    "print(f'Your final bill is {bill}')"
   ]
  },
  {
   "cell_type": "code",
   "execution_count": 21,
   "id": "4c46879a",
   "metadata": {},
   "outputs": [
    {
     "name": "stdout",
     "output_type": "stream",
     "text": [
      "Welcome to Lillestrom Pizza Shop\n",
      "Choose the Size of the Pizza (S/M/L) : l\n",
      "Do you want extra pepperoni ? (Y/N) : y\n",
      "Do you want extra cheese ? (Y/N) : m\n",
      "Your final bill is 280\n"
     ]
    }
   ],
   "source": [
    "#Now write it in smart way with .upper() function\n",
    "print('Welcome to Lillestrom Pizza Shop')\n",
    "\n",
    "size=input('Choose the Size of the Pizza (S/M/L) : ')\n",
    "add_pepperoni = input('Do you want extra pepperoni ? (Y/N) : ')\n",
    "extra_cheese = input('Do you want extra cheese ? (Y/N) : ')\n",
    "\n",
    "bill=0\n",
    "#Normal Cost\n",
    "if size.upper()=='S':\n",
    "    bill += 150\n",
    "elif size.upper()=='M':\n",
    "    bill += 200\n",
    "elif size.upper()=='L':\n",
    "    bill += 250\n",
    "#Extra Pepperoni\n",
    "if add_pepperoni.upper()=='Y':\n",
    "    if size.upper()=='S':\n",
    "        bill += 20\n",
    "    else:\n",
    "         bill += 30\n",
    "#Extra Cheese\n",
    "if extra_cheese.upper()=='Y':\n",
    "    bill +=10\n",
    "    \n",
    "print(f'Your final bill is {bill}')"
   ]
  },
  {
   "cell_type": "code",
   "execution_count": 7,
   "id": "f2b9ef77",
   "metadata": {},
   "outputs": [
    {
     "name": "stdout",
     "output_type": "stream",
     "text": [
      "Please enter your name: Kanye West\n",
      "Please enter their name: Kim Kardashian\n",
      "Your score is 42, you are alright together\n"
     ]
    }
   ],
   "source": [
    "#Love Calculator using count function\n",
    "#'Siddharth'.count('S') # So better use .lower() to avoid case specific issues\n",
    "\n",
    "yourname=input('Please enter your name: ').lower()\n",
    "theirname=input('Please enter their name: ').lower()\n",
    "\n",
    "true=0\n",
    "love=0\n",
    "\n",
    "t=yourname.count('t')+theirname.count('t')\n",
    "r=yourname.count('r')+theirname.count('r')\n",
    "u=yourname.count('u')+theirname.count('u')\n",
    "e=yourname.count('e')+theirname.count('e')\n",
    "true = t+r+u+e\n",
    "\n",
    "l=yourname.count('l')+theirname.count('l')\n",
    "o=yourname.count('o')+theirname.count('o')\n",
    "v=yourname.count('v')+theirname.count('v')\n",
    "e=yourname.count('e')+theirname.count('e')\n",
    "love=l+o+v+e\n",
    "\n",
    "love_score= int(str(true) + str(love))\n",
    "#print(f'Percentage is {love_score} %')\n",
    "\n",
    "if love_score<10 and love_score>90:\n",
    "    print(f'Your score is {love_score}, you go togerther like coke and mentos ')\n",
    "elif love_score>=40 and love_score<=50:\n",
    "    print(f'Your score is {love_score}, you are alright together')\n",
    "else:\n",
    "    print(f'Your score is {love_score}')\n"
   ]
  },
  {
   "cell_type": "code",
   "execution_count": 10,
   "id": "33663fcb",
   "metadata": {},
   "outputs": [
    {
     "name": "stdout",
     "output_type": "stream",
     "text": [
      "Please enter your name: Siddharth\n",
      "Please enter their name: Pratima\n",
      "Your score is 40, you are alright together\n"
     ]
    }
   ],
   "source": [
    "#can be written smaller and better\n",
    "\n",
    "yourname=input('Please enter your name: ')\n",
    "theirname=input('Please enter their name: ')\n",
    "\n",
    "names=(yourname+theirname).lower()\n",
    "\n",
    "true=0\n",
    "love=0\n",
    "\n",
    "t=names.count('t')\n",
    "r=names.count('r')\n",
    "u=names.count('u')\n",
    "e=names.count('e')\n",
    "true = t+r+u+e\n",
    "\n",
    "l=names.count('l')\n",
    "o=names.count('o')\n",
    "v=names.count('v')\n",
    "e=names.count('e')\n",
    "love=l+o+v+e\n",
    "\n",
    "love_score= int(str(true) + str(love))\n",
    "#print(f'Percentage is {love_score} %')\n",
    "\n",
    "if love_score<10 and love_score>90:\n",
    "    print(f'Your score is {love_score}, you go togerther like coke and mentos ')\n",
    "elif love_score>=40 and love_score<=50:\n",
    "    print(f'Your score is {love_score}, you are alright together')\n",
    "else:\n",
    "    print(f'Your score is {love_score}')\n",
    "\n",
    "\n"
   ]
  },
  {
   "cell_type": "code",
   "execution_count": 18,
   "id": "10196206",
   "metadata": {},
   "outputs": [
    {
     "name": "stdout",
     "output_type": "stream",
     "text": [
      "Welcome to the Treasure Island. Your mission is to find the treasure.\n",
      "You are at a cross road. Where do you want to go ? Type left/right left\n",
      "You come to a lake. There is an island in the middle of the lake.Type \"wait\" to wait, or type \"swim\" to swim across \n",
      "wait\n",
      "You arrived at the island unharmed. There is a house with 3 doors. One red, one yellow and one blue, which colout you choose \n",
      "yellow\n",
      "You Win\n"
     ]
    }
   ],
   "source": [
    "#Trasure Island\n",
    "print('Welcome to the Treasure Island. Your mission is to find the treasure.')\n",
    "firstmove=input('You are at a cross road. Where do you want to go ? Type left/right ').lower()\n",
    "\n",
    "if firstmove=='left':\n",
    "    \n",
    "    print('You come to a lake. There is an island in the middle of the lake.Type \"wait\" to wait, or type \"swim\" to swim across ')\n",
    "    secondmove=input('').lower()\n",
    "    if secondmove=='wait':\n",
    "        print('You arrived at the island unharmed. There is a house with 3 doors. One red, one yellow and one blue, which colout you choose ')\n",
    "        thirdmove=input('').lower()\n",
    "        if thirdmove=='yellow':\n",
    "            print('You Win')\n",
    "        else:\n",
    "            print('Game Over')\n",
    "    else:\n",
    "        print('Game Over')\n",
    "        \n",
    "else:\n",
    "    print('Game Over')\n"
   ]
  },
  {
   "cell_type": "code",
   "execution_count": null,
   "id": "5280fb6a",
   "metadata": {},
   "outputs": [],
   "source": []
  }
 ],
 "metadata": {
  "kernelspec": {
   "display_name": "Python 3 (ipykernel)",
   "language": "python",
   "name": "python3"
  },
  "language_info": {
   "codemirror_mode": {
    "name": "ipython",
    "version": 3
   },
   "file_extension": ".py",
   "mimetype": "text/x-python",
   "name": "python",
   "nbconvert_exporter": "python",
   "pygments_lexer": "ipython3",
   "version": "3.11.2"
  }
 },
 "nbformat": 4,
 "nbformat_minor": 5
}
