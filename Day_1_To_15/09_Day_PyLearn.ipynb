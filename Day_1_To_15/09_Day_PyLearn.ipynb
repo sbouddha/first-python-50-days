{
 "cells": [
  {
   "cell_type": "code",
   "execution_count": 5,
   "id": "d5855ee1",
   "metadata": {},
   "outputs": [
    {
     "name": "stdout",
     "output_type": "stream",
     "text": [
      "Trust The Process\n",
      "Welcome to Day-9, Today we will learn about Python Dictionaries and Nesting\n",
      "Project will be Silent Auction \n"
     ]
    }
   ],
   "source": [
    "print('Trust The Process\\nWelcome to Day-9, Today we will learn about Python Dictionaries and Nesting')\n",
    "print('Project will be Silent Auction ')"
   ]
  },
  {
   "cell_type": "code",
   "execution_count": 8,
   "id": "051b5d20",
   "metadata": {},
   "outputs": [
    {
     "name": "stdout",
     "output_type": "stream",
     "text": [
      "{'Pratima': 30, 'Siddharth': 33, 'Elon': 44}\n"
     ]
    }
   ],
   "source": [
    "#Dictionar=Key Value \n",
    "#Syntax : {Key: Value, Key: Value, Key: Value}\n",
    "Age= {\n",
    "    'Pratima':30, \n",
    "    'Siddharth':33,\n",
    "    'Elon':44\n",
    "}\n",
    "print(Age)"
   ]
  },
  {
   "cell_type": "code",
   "execution_count": 17,
   "id": "317900ea",
   "metadata": {},
   "outputs": [
    {
     "name": "stdout",
     "output_type": "stream",
     "text": [
      "33\n"
     ]
    }
   ],
   "source": [
    "#How to fetch data from Dictionary\n",
    "Age= {\n",
    "    'Pratima':30, \n",
    "    'Siddharth':33,\n",
    "    'Elon':44\n",
    "}\n",
    "print(Age['Siddharth'])"
   ]
  },
  {
   "cell_type": "code",
   "execution_count": 18,
   "id": "90d15a66",
   "metadata": {},
   "outputs": [
    {
     "name": "stdout",
     "output_type": "stream",
     "text": [
      "{'Pratima': 30, 'Siddharth': 33, 'Elon': 44, 'Jordan': 55}\n"
     ]
    }
   ],
   "source": [
    "#Add things in dictionary\n",
    "Age['Jordan']=55\n",
    "print(Age)"
   ]
  },
  {
   "cell_type": "code",
   "execution_count": 12,
   "id": "2cc89ce9",
   "metadata": {},
   "outputs": [
    {
     "name": "stdout",
     "output_type": "stream",
     "text": [
      "{'Pratima': 30, 'Siddharth': 33, 'Elon': 44, 'Jordan': 56}\n"
     ]
    }
   ],
   "source": [
    "Age['Jordan']=56  #It will override if allready exists\n",
    "print(Age)"
   ]
  },
  {
   "cell_type": "code",
   "execution_count": 13,
   "id": "1e885614",
   "metadata": {},
   "outputs": [],
   "source": [
    "#Create an empty Dictionary\n",
    "emtpty_dict={}"
   ]
  },
  {
   "cell_type": "code",
   "execution_count": 15,
   "id": "4010ed4f",
   "metadata": {},
   "outputs": [
    {
     "name": "stdout",
     "output_type": "stream",
     "text": [
      "{'Pratima': 30, 'Siddharth': 33, 'Elon': 44, 'Jordan': 56}\n",
      "{}\n"
     ]
    }
   ],
   "source": [
    "#Wipe a dictionary\n",
    "print(Age)\n",
    "Age={}\n",
    "print(Age)"
   ]
  },
  {
   "cell_type": "code",
   "execution_count": 16,
   "id": "8cfbac89",
   "metadata": {},
   "outputs": [
    {
     "name": "stdout",
     "output_type": "stream",
     "text": [
      "{}\n"
     ]
    }
   ],
   "source": [
    "print(Age)"
   ]
  },
  {
   "cell_type": "code",
   "execution_count": 19,
   "id": "01af8c01",
   "metadata": {},
   "outputs": [
    {
     "name": "stdout",
     "output_type": "stream",
     "text": [
      "{'Pratima': 30, 'Siddharth': 33, 'Elon': 44, 'Jordan': 55}\n"
     ]
    }
   ],
   "source": [
    "print(Age)"
   ]
  },
  {
   "cell_type": "code",
   "execution_count": 20,
   "id": "b673ca45",
   "metadata": {},
   "outputs": [],
   "source": [
    "#Edit value:\n",
    "Age['Siddharth']=34"
   ]
  },
  {
   "cell_type": "code",
   "execution_count": 22,
   "id": "afffd69f",
   "metadata": {},
   "outputs": [
    {
     "name": "stdout",
     "output_type": "stream",
     "text": [
      "{'Pratima': 30, 'Siddharth': 34, 'Elon': 44, 'Jordan': 55}\n",
      "34\n"
     ]
    }
   ],
   "source": [
    "print(Age)\n",
    "print(Age['Siddharth'])"
   ]
  },
  {
   "cell_type": "code",
   "execution_count": 24,
   "id": "0b70fc1c",
   "metadata": {},
   "outputs": [
    {
     "name": "stdout",
     "output_type": "stream",
     "text": [
      "Pratima\n",
      "Siddharth\n",
      "Elon\n",
      "Jordan\n"
     ]
    }
   ],
   "source": [
    "#Looping through a dictionary:\n",
    "#It just gives keys\n",
    "for ages in Age:\n",
    "    print(ages)"
   ]
  },
  {
   "cell_type": "code",
   "execution_count": 26,
   "id": "c760435d",
   "metadata": {},
   "outputs": [
    {
     "name": "stdout",
     "output_type": "stream",
     "text": [
      "Pratima\n",
      "30\n",
      "Siddharth\n",
      "34\n",
      "Elon\n",
      "44\n",
      "Jordan\n",
      "55\n"
     ]
    }
   ],
   "source": [
    "for person in Age:\n",
    "    print(person)\n",
    "    print(Age[person])"
   ]
  },
  {
   "cell_type": "code",
   "execution_count": 73,
   "id": "f3d22dbf",
   "metadata": {},
   "outputs": [
    {
     "name": "stdout",
     "output_type": "stream",
     "text": [
      "{'a': 1, 'b': 2, 'c': 3}\n",
      "{'a': 1, 'b': 2, 'c': 3, 1: 4}\n"
     ]
    }
   ],
   "source": [
    "dict = {\n",
    "    \"a\": 1,\n",
    "    \"b\": 2,\n",
    "    \"c\": 3,\n",
    "}\n",
    "print(dict)\n",
    "\n",
    "dict[1]=4\n",
    "\n",
    "print(dict)\n"
   ]
  },
  {
   "cell_type": "code",
   "execution_count": 31,
   "id": "7cb7a894",
   "metadata": {},
   "outputs": [
    {
     "name": "stdout",
     "output_type": "stream",
     "text": [
      "{'Harry': 81, 'Ron': 78, 'Hermione': 99, 'Draco': 74, 'Neville': 62}\n"
     ]
    }
   ],
   "source": [
    "student_scores = {\n",
    "  \"Harry\": 81,\n",
    "  \"Ron\": 78,\n",
    "  \"Hermione\": 99, \n",
    "  \"Draco\": 74,\n",
    "  \"Neville\": 62,\n",
    "}\n",
    "print(student_scores)"
   ]
  },
  {
   "cell_type": "code",
   "execution_count": 32,
   "id": "d50904be",
   "metadata": {},
   "outputs": [
    {
     "name": "stdout",
     "output_type": "stream",
     "text": [
      "{'Harry': 'Exceeded Expectations', 'Ron': 'Acceptable', 'Hermione': 'Outstanding', 'Draco': 'Acceptable', 'Neville': 'Fail'}\n"
     ]
    }
   ],
   "source": [
    "student_grades={}\n",
    "\n",
    "for student in student_scores:\n",
    "    if student_scores[student] >90 and  student_scores[student] <=100:\n",
    "        grade='Outstanding'\n",
    "    elif student_scores[student] >80 and  student_scores[student] <=90:\n",
    "        grade='Exceeded Expectations'\n",
    "    elif student_scores[student] >70 and  student_scores[student] <=80:\n",
    "        grade='Acceptable'\n",
    "    elif student_scores[student] <=70:\n",
    "        grade='Fail'\n",
    "    student_grades[student]=grade\n",
    "        \n",
    "\n",
    "\n",
    "print(student_grades)"
   ]
  },
  {
   "cell_type": "code",
   "execution_count": 41,
   "id": "e2419a93",
   "metadata": {},
   "outputs": [
    {
     "name": "stdout",
     "output_type": "stream",
     "text": [
      "{'Norway': ['Oslo', 'Bergen', 'Stavanger'], 'Germany': ['Frankfurt', 'Berlin'], 'India': ['Pune', 'Datia', 'Bhusawal']}\n",
      "['Oslo', 'Bergen', 'Stavanger']\n",
      "{'cities_visited': ['Oslo', 'Bergen', 'Stavanger'], 'total_visits': 12}\n"
     ]
    }
   ],
   "source": [
    "# Nested Lists and Dictionaries\n",
    "# Nested={\n",
    "#     Key1:[List],\n",
    "#     Key2:{Dict}\n",
    "# }\n",
    "\n",
    "travel_log={\n",
    "    'Norway' : ['Oslo','Bergen','Stavanger'],\n",
    "    'Germany': ['Frankfurt','Berlin'],\n",
    "    'India'  : ['Pune','Datia','Bhusawal']\n",
    "    \n",
    "}\n",
    "\n",
    "#Nesting Dictionary in a Dictionary\n",
    "travel_log_nested={\n",
    "    'Norway' : {'cities_visited':['Oslo','Bergen','Stavanger'], 'total_visits' : 12},\n",
    "    'Germany': {'cities_visted':['Frankfurt','Berlin'], 'total_visits':5},\n",
    "    'India'  : {'cities_visited':['Pune','Datia','Bhusawal'], 'total_visits':50}\n",
    "    \n",
    "}\n",
    "\n",
    "print(travel_log)\n",
    "print(travel_log['Norway'])\n",
    "print(travel_log_nested['Norway'])\n"
   ]
  },
  {
   "cell_type": "code",
   "execution_count": 53,
   "id": "ae91f5fd",
   "metadata": {},
   "outputs": [
    {
     "name": "stdout",
     "output_type": "stream",
     "text": [
      "{'country': 'Norway', 'cities_visited': ['Oslo', 'Bergen', 'Stavanger'], 'total_visits': 12}\n"
     ]
    }
   ],
   "source": [
    "#Nesting Dictionary in a List\n",
    "travel_log_list=[]\n",
    "travel_log_list=[\n",
    "    {\n",
    "        'country':'Norway',\n",
    "        'cities_visited':['Oslo','Bergen','Stavanger'],\n",
    "        'total_visits':12\n",
    "    },\n",
    "    \n",
    "    {\n",
    "        'country':'India',\n",
    "        'cities_visited':['Datia','Bhusawal','Pune'],\n",
    "        'total_visits':50\n",
    "    }\n",
    "    \n",
    "]\n",
    "\n",
    "print(travel_log_list[0])"
   ]
  },
  {
   "cell_type": "code",
   "execution_count": 101,
   "id": "afa546f7",
   "metadata": {},
   "outputs": [
    {
     "name": "stdout",
     "output_type": "stream",
     "text": [
      "{'country': 'Norway', 'cities_visited': ['Oslo', 'Bergen', 'Stavanger'], 'total_visits': 12}\n",
      "[{'country': 'Norway', 'cities_visited': ['Oslo', 'Bergen', 'Stavanger'], 'total_visits': 12}, {'country': 'India', 'cities_visited': ['Datia', 'Bhusawal', 'Pune'], 'total_visits': 50}, {'country': 'Russia', 'cities_visited': ['Moscow', 'Saint Petersburg'], 'total_visits': 2}]\n"
     ]
    }
   ],
   "source": [
    "#Add Dictionary in a List\n",
    "travel_log_list=[]\n",
    "travel_log_list=[\n",
    "    {\n",
    "        'country':'Norway',\n",
    "        'cities_visited':['Oslo','Bergen','Stavanger'],\n",
    "        'total_visits':12\n",
    "    },\n",
    "    \n",
    "    {\n",
    "        'country':'India',\n",
    "        'cities_visited':['Datia','Bhusawal','Pune'],\n",
    "        'total_visits':50\n",
    "    }\n",
    "    \n",
    "]\n",
    "\n",
    "print(travel_log_list[0])\n",
    "\n",
    "def add_county_in_list():\n",
    "    \n",
    "    new_country={\n",
    "        'country':'Russia',\n",
    "        'cities_visited':['Moscow','Saint Petersburg'],\n",
    "        'total_visits':2\n",
    "    }\n",
    "    \n",
    "    travel_log_list.append(new_country)\n",
    "    \n",
    "    print(travel_log_list)\n",
    "    \n",
    "add_county_in_list()\n",
    "\n",
    "    "
   ]
  },
  {
   "cell_type": "code",
   "execution_count": 102,
   "id": "b51f0250",
   "metadata": {},
   "outputs": [
    {
     "name": "stdout",
     "output_type": "stream",
     "text": [
      "You have visted Russia 2 times\n",
      "You have been to ['Moscow', 'Saint Petersburg']\n",
      "You have been to Moscow, Saint Petersburg\n"
     ]
    }
   ],
   "source": [
    "#to get things printed\n",
    "print(f\"You have visted {travel_log_list[2]['country']} {travel_log_list[2]['total_visits']} times\")\n",
    "print(f\"You have been to {travel_log_list[2]['cities_visited']}\")\n",
    "city_str=', '.join(travel_log_list[2]['cities_visited'])\n",
    "print(f\"You have been to {city_str}\")\n",
    "\n"
   ]
  },
  {
   "cell_type": "code",
   "execution_count": 107,
   "id": "65dbd935",
   "metadata": {},
   "outputs": [
    {
     "name": "stdout",
     "output_type": "stream",
     "text": [
      "[{'country': 'Norway', 'cities_visited': ['Oslo', 'Bergen', 'Stavanger'], 'total_visits': 12}, {'country': 'India', 'cities_visited': ['Datia', 'Bhusawal', 'Pune'], 'total_visits': 50}]\n",
      "[{'country': 'Norway', 'cities_visited': ['Oslo', 'Bergen', 'Stavanger'], 'total_visits': 12}, {'country': 'India', 'cities_visited': ['Datia', 'Bhusawal', 'Pune'], 'total_visits': 50}, {'country': 'Germany', 'total_visits': 2, 'cities_visited': ['Frankfurt', 'Berlin']}]\n",
      "You have visted Germany 2 times\n",
      "You have been to Frankfurt, Berlin\n"
     ]
    }
   ],
   "source": [
    "#Now make it dynamic\n",
    "#Not a smart move\n",
    "\n",
    "travel_log_list=[]\n",
    "travel_log_list=[\n",
    "    {\n",
    "        'country':'Norway',\n",
    "        'cities_visited':['Oslo','Bergen','Stavanger'],\n",
    "        'total_visits':12\n",
    "    },\n",
    "    \n",
    "    {\n",
    "        'country':'India',\n",
    "        'cities_visited':['Datia','Bhusawal','Pune'],\n",
    "        'total_visits':50\n",
    "    }\n",
    "    \n",
    "]\n",
    "\n",
    "def add_county_dyn(country_visited, times_visted, cities_visited):\n",
    "    \n",
    "    new_country={}\n",
    "    new_country['country']=country_visited\n",
    "    new_country['total_visits']=times_visted\n",
    "    new_country['cities_visited']=cities_visited\n",
    "    \n",
    "    travel_log_list.append(new_country)\n",
    "    \n",
    "print(travel_log_list)\n",
    "    \n",
    "add_county_dyn(\"Germany\", 2, [\"Frankfurt\", \"Berlin\"])\n",
    "\n",
    "print(travel_log_list)\n",
    "\n",
    "print(f\"You have visted {travel_log_list[2]['country']} {travel_log_list[2]['total_visits']} times\")\n",
    "city_str=', '.join(travel_log_list[2]['cities_visited'])\n",
    "print(f\"You have been to {city_str}\")\n"
   ]
  },
  {
   "cell_type": "code",
   "execution_count": 17,
   "id": "d7289e71",
   "metadata": {},
   "outputs": [
    {
     "name": "stdout",
     "output_type": "stream",
     "text": [
      "What is your name?:sid\n",
      "What is your bid ?:$100\n",
      "Are there any more bidders? Type \"Yes\" or \"No\" \n",
      "What is your name?:pratima\n",
      "What is your bid ?:$100\n",
      "Are there any more bidders? Type \"Yes\" or \"No\" \n",
      "What is your name?:elon\n",
      "What is your bid ?:$50\n",
      "Are there any more bidders? Type \"Yes\" or \"No\" no\n",
      "The max bid is 100 and the winner is sid\n"
     ]
    }
   ],
   "source": [
    "#Hidden Auction\n",
    "#To clear the screen\n",
    "import os\n",
    "\n",
    "# Clear the screen\n",
    "def clear_screen():\n",
    "    os.system('cls' if os.name == 'nt' else 'clear')\n",
    "\n",
    "# Get input from user\n",
    "more_bidders=True\n",
    "bidder_list=[]\n",
    "\n",
    "while more_bidders:\n",
    "    clear_screen()\n",
    "    user_name=input('What is your name?:')\n",
    "    user_bid=int(input('What is your bid ?:$'))\n",
    "    bidder_dict={'name':user_name, 'bid':user_bid}\n",
    "    bidder_list.append(bidder_dict)\n",
    "\n",
    "    \n",
    "    more=input('Are there any more bidders? Type \"Yes\" or \"No\" ')\n",
    "    if more.lower()=='yes' or more.lower()=='':\n",
    "        clear_screen()\n",
    "    elif more.lower()=='no':\n",
    "        more_bidders=False\n",
    "        \n",
    "max_bid=0\n",
    "\n",
    "for bidder in bidder_list:\n",
    "    if bidder['bid']>max_bid:\n",
    "        max_bid=bidder['bid']\n",
    "        max_bidder=bidder['name']\n",
    "\n",
    "print(f'The max bid is {max_bid} and the winner is {max_bidder}')\n"
   ]
  },
  {
   "cell_type": "code",
   "execution_count": null,
   "id": "329f762b",
   "metadata": {},
   "outputs": [],
   "source": [
    "#Hidden Auction\n",
    "#Remove duplicates in auction--wip, not done yet, will handle later\n",
    "import os\n",
    "\n",
    "# Clear the screen\n",
    "def clear_screen():\n",
    "    os.system('cls' if os.name == 'nt' else 'clear')\n",
    "\n",
    "# Get input from user\n",
    "more_bidders=True\n",
    "bidder_list=[]\n",
    "\n",
    "while more_bidders:\n",
    "    clear_screen()\n",
    "    user_name=input('What is your name?:')\n",
    "    user_bid=int(input('What is your bid ?:$'))\n",
    "    bidder_dict={'name':user_name, 'bid':user_bid}\n",
    "    bidder_list.append(bidder_dict)\n",
    "\n",
    "    \n",
    "    more=input('Are there any more bidders? Type \"Yes\" or \"No\" ')\n",
    "    if more.lower()=='yes' or more.lower()=='':\n",
    "        clear_screen()\n",
    "    elif more.lower()=='no':\n",
    "        more_bidders=False\n",
    "        \n",
    "max_bid=0\n",
    "\n",
    "for bidder in bidder_list:\n",
    "    if bidder['bid']>max_bid:\n",
    "        max_bid=bidder['bid']\n",
    "        max_bidder=bidder['name']\n",
    "\n",
    "print(f'The max bid is {max_bid} and the winner is {max_bidder}')"
   ]
  },
  {
   "cell_type": "code",
   "execution_count": 18,
   "id": "4dc1e659",
   "metadata": {},
   "outputs": [
    {
     "name": "stdout",
     "output_type": "stream",
     "text": [
      "Trust The Process\n",
      "Huraah!!! Day-9 Completed\n"
     ]
    }
   ],
   "source": [
    "print('Trust The Process\\nHuraah!!! Day-9 Completed')"
   ]
  }
 ],
 "metadata": {
  "kernelspec": {
   "display_name": "Python 3 (ipykernel)",
   "language": "python",
   "name": "python3"
  },
  "language_info": {
   "codemirror_mode": {
    "name": "ipython",
    "version": 3
   },
   "file_extension": ".py",
   "mimetype": "text/x-python",
   "name": "python",
   "nbconvert_exporter": "python",
   "pygments_lexer": "ipython3",
   "version": "3.11.2"
  }
 },
 "nbformat": 4,
 "nbformat_minor": 5
}
