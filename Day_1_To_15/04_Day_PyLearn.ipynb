{
 "cells": [
  {
   "cell_type": "code",
   "execution_count": 3,
   "id": "19c21247",
   "metadata": {},
   "outputs": [
    {
     "name": "stdout",
     "output_type": "stream",
     "text": [
      "This is day-4, we will learn about Randomisation and Python list \n"
     ]
    }
   ],
   "source": [
    "print('This is day-4, we will learn about Randomisation and Python list ')"
   ]
  },
  {
   "cell_type": "code",
   "execution_count": 16,
   "id": "0dd78d7a",
   "metadata": {},
   "outputs": [
    {
     "data": {
      "text/plain": [
       "129"
      ]
     },
     "execution_count": 16,
     "metadata": {},
     "output_type": "execute_result"
    }
   ],
   "source": [
    "import random\n",
    "random.randint(100,200)"
   ]
  },
  {
   "cell_type": "code",
   "execution_count": 17,
   "id": "eecaeeaf",
   "metadata": {},
   "outputs": [
    {
     "name": "stdout",
     "output_type": "stream",
     "text": [
      "Random number is 199\n"
     ]
    }
   ],
   "source": [
    "import random\n",
    "random_integer=random.randint(100,200)\n",
    "print(f'Random number is {random_integer}')"
   ]
  },
  {
   "cell_type": "code",
   "execution_count": 19,
   "id": "4b311a19",
   "metadata": {},
   "outputs": [
    {
     "name": "stdout",
     "output_type": "stream",
     "text": [
      "0.19180785130317768\n"
     ]
    }
   ],
   "source": [
    "random_float= random.random()\n",
    "print(random_float)"
   ]
  },
  {
   "cell_type": "code",
   "execution_count": 24,
   "id": "f1eb9a2f",
   "metadata": {},
   "outputs": [
    {
     "name": "stdout",
     "output_type": "stream",
     "text": [
      "4.515006387694639\n"
     ]
    }
   ],
   "source": [
    "#Generating random float, by default it produces between 0 and 1\n",
    "random_float= random.random()\n",
    "print(random_float*5)"
   ]
  },
  {
   "cell_type": "code",
   "execution_count": 47,
   "id": "37327055",
   "metadata": {},
   "outputs": [
    {
     "name": "stdout",
     "output_type": "stream",
     "text": [
      "Tails\n"
     ]
    }
   ],
   "source": [
    "#Head or Tail by flipping the coin\n",
    "\n",
    "flip=random.randint(0,1)\n",
    "if flip==0:\n",
    "    print('Heads')\n",
    "else:\n",
    "    print('Tails')"
   ]
  },
  {
   "cell_type": "code",
   "execution_count": 50,
   "id": "a2d62c14",
   "metadata": {},
   "outputs": [
    {
     "name": "stdout",
     "output_type": "stream",
     "text": [
      "Orange\n"
     ]
    }
   ],
   "source": [
    "#Lists\n",
    "fruits =['Mango','Orange']\n",
    "print(fruits[-1])"
   ]
  },
  {
   "cell_type": "code",
   "execution_count": 12,
   "id": "74358ce5",
   "metadata": {},
   "outputs": [
    {
     "name": "stdout",
     "output_type": "stream",
     "text": [
      "Apple\n"
     ]
    }
   ],
   "source": [
    "#Lists\n",
    "fruits =['Mango','Orange']\n",
    "fruits[-1]='Apple'\n",
    "print(fruits[-1])"
   ]
  },
  {
   "cell_type": "code",
   "execution_count": 53,
   "id": "48cfe634",
   "metadata": {},
   "outputs": [
    {
     "name": "stdout",
     "output_type": "stream",
     "text": [
      "['Mango', 'Orange', 'Apple', 'Apple', 'Apple']\n"
     ]
    }
   ],
   "source": [
    "#Use append\n",
    "fruits.append('Apple')\n",
    "print(fruits)"
   ]
  },
  {
   "cell_type": "code",
   "execution_count": 58,
   "id": "96575051",
   "metadata": {},
   "outputs": [],
   "source": [
    "fruits.remove('Apple')\n"
   ]
  },
  {
   "cell_type": "code",
   "execution_count": 59,
   "id": "211c2d9e",
   "metadata": {},
   "outputs": [
    {
     "name": "stdout",
     "output_type": "stream",
     "text": [
      "['Mango', 'Orange', 'Apple']\n"
     ]
    }
   ],
   "source": [
    "print(fruits)"
   ]
  },
  {
   "cell_type": "code",
   "execution_count": 61,
   "id": "237cd858",
   "metadata": {},
   "outputs": [
    {
     "name": "stdout",
     "output_type": "stream",
     "text": [
      "['Mango', 'Orange', 'Apple', 'Grapes', 'Pears']\n"
     ]
    }
   ],
   "source": [
    "#use extend\n",
    "fruits.extend(['Grapes','Pears'])\n",
    "print(fruits)\n"
   ]
  },
  {
   "cell_type": "code",
   "execution_count": 63,
   "id": "58b8a352",
   "metadata": {},
   "outputs": [
    {
     "name": "stdout",
     "output_type": "stream",
     "text": [
      "1\n"
     ]
    }
   ],
   "source": [
    "print(fruits.count('Apple'))"
   ]
  },
  {
   "cell_type": "code",
   "execution_count": 64,
   "id": "a4f9c3b6",
   "metadata": {},
   "outputs": [
    {
     "name": "stdout",
     "output_type": "stream",
     "text": [
      "['apple', 'banana', 'orange']\n",
      "[]\n"
     ]
    }
   ],
   "source": [
    "#clear list\n",
    "fruits = ['apple', 'banana', 'orange']\n",
    "print(fruits)  # Output: ['apple', 'banana', 'orange']\n",
    "\n",
    "fruits.clear()\n",
    "print(fruits)  # Output: []\n"
   ]
  },
  {
   "cell_type": "code",
   "execution_count": 98,
   "id": "39953103",
   "metadata": {},
   "outputs": [
    {
     "name": "stdout",
     "output_type": "stream",
     "text": [
      "Welcome to the Lillestrom Sumo Restaurant\n",
      "Enter all the names followed by comma.  Siddharth, Pratima, Elon, Jordan\n",
      "You entered ['Siddharth', 'Pratima', 'Elon', 'Jordan']\n",
      "Jordan is going to pay the Bill today\n"
     ]
    }
   ],
   "source": [
    "import random\n",
    "names_strin=input('Welcome to the Lillestrom Sumo Restaurant\\nEnter all the names followed by comma.  ')\n",
    "names=names_strin.split(', ')\n",
    "print(f'You entered {names}')\n",
    "\n",
    "#use len function\n",
    "list_lenghth=len(names);\n",
    "\n",
    "#use random function, remember that -1 needs to be added at last \n",
    "rand=random.randint(0,list_lenghth-1)\n",
    "payer=names[rand]\n",
    "\n",
    "print(f'{payer} is going to pay the Bill today')\n"
   ]
  },
  {
   "cell_type": "code",
   "execution_count": 99,
   "id": "034b9755",
   "metadata": {},
   "outputs": [
    {
     "name": "stdout",
     "output_type": "stream",
     "text": [
      "We are going to buy [['Grapes', 'Orages', 'Apple'], ['Onion', 'Potato', 'Capsicum']]\n"
     ]
    }
   ],
   "source": [
    "#Nested List\n",
    "fruits=['Grapes', 'Orages', 'Apple']\n",
    "vegetables=['Onion', 'Potato', 'Capsicum']\n",
    "grocery_today=[fruits,vegetables]\n",
    "print(f'We are going to buy {grocery_today}')"
   ]
  },
  {
   "cell_type": "code",
   "execution_count": 16,
   "id": "97603255",
   "metadata": {},
   "outputs": [
    {
     "name": "stdout",
     "output_type": "stream",
     "text": [
      "['😀', '😃', '😄']\n",
      "['😉', '😌', '😍'],\n",
      "['😄', '😁', '😆']\n",
      "Where you want to put the treasure? 23\n",
      "The treasure to be put at row 3 and column 2\n",
      "['😀', '😃', '😄']\n",
      "['😉', '😌', '😍'],\n",
      "['😄', 'X', '😆']\n"
     ]
    }
   ],
   "source": [
    "#Treasure Map\n",
    "row1= ['😀', '😃', '😄']\n",
    "row2= ['😉', '😌', '😍']\n",
    "row3= ['😄', '😁' ,'😆']\n",
    "\n",
    "\n",
    "map=[row1,row2,row3]\n",
    "\n",
    "print(f'{row1}\\n{row2},\\n{row3}')\n",
    "\n",
    "position= input('Where you want to put the treasure? ')\n",
    "#23\n",
    "selected_row=int(position[1])\n",
    "selected_column=int(position[0])\n",
    "\n",
    "print(f'The treasure to be put at row {selected_row} and column {selected_column}')\n",
    "\n",
    "map[selected_row-1][selected_column-1]='X'\n",
    "\n",
    "print(f'{row1}\\n{row2},\\n{row3}')\n"
   ]
  },
  {
   "cell_type": "code",
   "execution_count": 65,
   "id": "a337a89a",
   "metadata": {},
   "outputs": [
    {
     "name": "stdout",
     "output_type": "stream",
     "text": [
      "What do you choose? Type 0 for Rock, 1 for Paper or 2 for Scissors. 1\n",
      "You played Paper\n",
      "Computer played Rock\n",
      "You Win\n"
     ]
    }
   ],
   "source": [
    "#Rock Paper Scissors Game\n",
    "#R>S, S>P, P>R\n",
    "\n",
    "\n",
    "import random\n",
    "\n",
    "game_list=['Rock','Paper','Scissors']\n",
    "\n",
    "human_input=int(input('What do you choose? Type 0 for Rock, 1 for Paper or 2 for Scissors. '))\n",
    "\n",
    "if human_input<3 and human_input>=0 :\n",
    "    human_choice=game_list[human_input]\n",
    "    print(f'You played {human_choice}')\n",
    "    \n",
    "    computer_input=random.randint(0,2)\n",
    "    computer_choice=game_list[computer_input]\n",
    "    print(f'Computer played {computer_choice}')\n",
    "\n",
    "    if human_choice!=computer_choice:\n",
    "        if human_input==0 and computer_input==2:\n",
    "            print('You Win')\n",
    "        elif human_input==2 and computer_input==1:\n",
    "            print('You Win')\n",
    "        elif human_input==1 and computer_input==0:\n",
    "            print('You Win')\n",
    "        else:\n",
    "            print('Computer Wins')\n",
    "    else:\n",
    "        print('Same Pinch !!! Try again')\n",
    "\n",
    "else:\n",
    "    print('You input invalid number, you lose')\n",
    "\n"
   ]
  },
  {
   "cell_type": "code",
   "execution_count": 66,
   "id": "9a376c7e",
   "metadata": {},
   "outputs": [
    {
     "name": "stdout",
     "output_type": "stream",
     "text": [
      "Huraah !!! Day-4 Completed\n"
     ]
    }
   ],
   "source": [
    "print('Huraah !!! Day-4 Completed')"
   ]
  }
 ],
 "metadata": {
  "kernelspec": {
   "display_name": "Python 3 (ipykernel)",
   "language": "python",
   "name": "python3"
  },
  "language_info": {
   "codemirror_mode": {
    "name": "ipython",
    "version": 3
   },
   "file_extension": ".py",
   "mimetype": "text/x-python",
   "name": "python",
   "nbconvert_exporter": "python",
   "pygments_lexer": "ipython3",
   "version": "3.11.2"
  }
 },
 "nbformat": 4,
 "nbformat_minor": 5
}
