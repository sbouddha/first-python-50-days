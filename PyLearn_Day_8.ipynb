{
 "cells": [
  {
   "cell_type": "code",
   "execution_count": 3,
   "id": "391dfc23",
   "metadata": {},
   "outputs": [
    {
     "name": "stdout",
     "output_type": "stream",
     "text": [
      "Trust the Process\n",
      "Welcome to Day-8\n",
      "We will learn about Functions with Parameter and Caesar Cipher\n"
     ]
    }
   ],
   "source": [
    "print('Trust the Process\\nWelcome to Day-8\\nWe will learn about Functions with Parameter and Caesar Cipher')"
   ]
  },
  {
   "cell_type": "code",
   "execution_count": 4,
   "id": "b20b749c",
   "metadata": {},
   "outputs": [],
   "source": [
    "#Practice function without input\n",
    "def greet():\n",
    "    print('Hello')\n",
    "    print('This is greet function pratice')\n",
    "    print('Lets see if it prints 3 lines')"
   ]
  },
  {
   "cell_type": "code",
   "execution_count": 5,
   "id": "0e577fbe",
   "metadata": {},
   "outputs": [
    {
     "name": "stdout",
     "output_type": "stream",
     "text": [
      "Hello\n",
      "This is greet function pratice\n",
      "Lets see if it prints 3 lines\n"
     ]
    }
   ],
   "source": [
    "greet()"
   ]
  },
  {
   "cell_type": "code",
   "execution_count": 1,
   "id": "75fad6f2",
   "metadata": {},
   "outputs": [],
   "source": [
    "#Practice function without input\n",
    "def greetings(name):\n",
    "    print(f'Hello {name}')\n",
    "    print(f'This is greet function pratice {name}')\n",
    "    print(f'Lets see if it prints 3 lines {name}')"
   ]
  },
  {
   "cell_type": "code",
   "execution_count": 2,
   "id": "6804ffa9",
   "metadata": {},
   "outputs": [
    {
     "name": "stdout",
     "output_type": "stream",
     "text": [
      "Hello Sid\n",
      "This is greet function pratice Sid\n",
      "Lets see if it prints 3 lines Sid\n"
     ]
    }
   ],
   "source": [
    "greetings('Sid')"
   ]
  },
  {
   "cell_type": "code",
   "execution_count": 6,
   "id": "1c8ddd86",
   "metadata": {},
   "outputs": [
    {
     "ename": "TypeError",
     "evalue": "greetings() missing 1 required positional argument: 'name'",
     "output_type": "error",
     "traceback": [
      "\u001b[1;31m---------------------------------------------------------------------------\u001b[0m",
      "\u001b[1;31mTypeError\u001b[0m                                 Traceback (most recent call last)",
      "Cell \u001b[1;32mIn[6], line 2\u001b[0m\n\u001b[0;32m      1\u001b[0m \u001b[38;5;66;03m#This will give error as it should have input parameters\u001b[39;00m\n\u001b[1;32m----> 2\u001b[0m \u001b[43mgreetings\u001b[49m\u001b[43m(\u001b[49m\u001b[43m)\u001b[49m\n",
      "\u001b[1;31mTypeError\u001b[0m: greetings() missing 1 required positional argument: 'name'"
     ]
    }
   ],
   "source": [
    "#This will give error as it should have input argument\n",
    "greetings()"
   ]
  },
  {
   "cell_type": "code",
   "execution_count": 8,
   "id": "ac508866",
   "metadata": {},
   "outputs": [
    {
     "name": "stdout",
     "output_type": "stream",
     "text": [
      "Hello Siddharth\n",
      "This is greet function pratice Siddharth\n",
      "Lets see if it prints 3 lines Siddharth\n"
     ]
    }
   ],
   "source": [
    "greetings('Siddharth')\n",
    "#Here in this function 'name' is the Parameter and 'Siddharth' is the argument"
   ]
  },
  {
   "cell_type": "code",
   "execution_count": 9,
   "id": "6ac57605",
   "metadata": {},
   "outputs": [],
   "source": [
    "def greet_from(name,location):\n",
    "    print(f'Hello {name} from {location}')"
   ]
  },
  {
   "cell_type": "code",
   "execution_count": 11,
   "id": "9e4a8698",
   "metadata": {},
   "outputs": [
    {
     "name": "stdout",
     "output_type": "stream",
     "text": [
      "Hello Siddharth from Norway\n"
     ]
    }
   ],
   "source": [
    "#Position is very important while entering the arguments\n",
    "greet_from('Siddharth','Norway')"
   ]
  },
  {
   "cell_type": "code",
   "execution_count": 12,
   "id": "75c1c46a",
   "metadata": {},
   "outputs": [
    {
     "name": "stdout",
     "output_type": "stream",
     "text": [
      "Hello Norway from Siddharth\n"
     ]
    }
   ],
   "source": [
    "greet_from('Norway','Siddharth')"
   ]
  },
  {
   "cell_type": "code",
   "execution_count": 14,
   "id": "7e56b703",
   "metadata": {},
   "outputs": [
    {
     "name": "stdout",
     "output_type": "stream",
     "text": [
      "Hello Siddharth from Norway\n"
     ]
    }
   ],
   "source": [
    "#Using Keyword Arguments\n",
    "greet_from(location='Norway',name='Siddharth')"
   ]
  },
  {
   "cell_type": "code",
   "execution_count": 18,
   "id": "5588297f",
   "metadata": {},
   "outputs": [],
   "source": [
    "#Wall Paint Cans/Area Calculator\n",
    "#Lets create a function to find the numbers of cans\n",
    "\n",
    "def paint_cans(height, width):\n",
    "    num_cans=round((height*width)/5)\n",
    "    print(f'Number of paint cans needed is {num_cans}')\n",
    "    "
   ]
  },
  {
   "cell_type": "code",
   "execution_count": 19,
   "id": "35d8a766",
   "metadata": {},
   "outputs": [
    {
     "name": "stdout",
     "output_type": "stream",
     "text": [
      "Number of paint cans needed is 5\n"
     ]
    }
   ],
   "source": [
    "#Calling the function\n",
    "paint_cans(height=3, width=9)"
   ]
  },
  {
   "cell_type": "code",
   "execution_count": 23,
   "id": "a963ed2c",
   "metadata": {},
   "outputs": [
    {
     "name": "stdout",
     "output_type": "stream",
     "text": [
      "Number of paint cans needed is 6\n"
     ]
    }
   ],
   "source": [
    "# The function ceil() from the math module will always return the nearest integer greater than or equal to the given number. So:\n",
    "# math.ceil(5.0) will print 5\n",
    "# math.ceil(5.1) will print 6\n",
    "# math.ceil(5.6) will print 6\n",
    "# The round() function returns the nearest integer >= or <= the given number:\n",
    "# round(5.0) will print 5\n",
    "# round(5.1) will print 5\n",
    "# round(5.6) will print 6\n",
    "\n",
    "#This time just importing needed function from math\n",
    "from math import ceil\n",
    "\n",
    "def paint_cans_calc(height, width, coverage ):\n",
    "    area=height*width\n",
    "    num_cans=ceil(area/coverage)\n",
    "    \n",
    "    print(f'Number of paint cans needed is {num_cans}')\n",
    "    \n",
    "#Calling the function    \n",
    "paint_cans_calc(3,9,5)"
   ]
  },
  {
   "cell_type": "code",
   "execution_count": null,
   "id": "df92edea",
   "metadata": {},
   "outputs": [],
   "source": [
    "#This time just importing whole module\n",
    "import math\n",
    "\n",
    "def paint_cans_calc(height, width, coverage ):\n",
    "    area=height*width\n",
    "    num_cans=math.ceil(area/coverage)\n",
    "    \n",
    "    print(f'Number of paint cans needed is {num_cans}')\n",
    "    \n",
    "#Calling the function    \n",
    "paint_cans_calc(3,9,5)"
   ]
  },
  {
   "cell_type": "code",
   "execution_count": 31,
   "id": "0df092c4",
   "metadata": {},
   "outputs": [
    {
     "name": "stdout",
     "output_type": "stream",
     "text": [
      "Enter the height: 3\n",
      "Enter the hwidtheight: 9\n",
      "Enter the coverage: 5\n",
      "Number of paint cans needed is 6\n"
     ]
    }
   ],
   "source": [
    "#With user inputs\n",
    "from math import ceil\n",
    "\n",
    "def paint_cans_calc2():\n",
    "    height=float(input('Enter the height: '))\n",
    "    width=float(input('Enter the hwidtheight: '))\n",
    "    coverage=float(input('Enter the coverage: '))\n",
    "    \n",
    "    area=height*width\n",
    "    num_cans=ceil(area/coverage)\n",
    "    \n",
    "    print(f'Number of paint cans needed is {num_cans}')\n",
    " \n",
    "paint_cans_calc2()"
   ]
  },
  {
   "cell_type": "code",
   "execution_count": 24,
   "id": "a8fdaf97",
   "metadata": {},
   "outputs": [
    {
     "name": "stdout",
     "output_type": "stream",
     "text": [
      "Enter number to check for Prime: 13\n",
      "Prime\n"
     ]
    }
   ],
   "source": [
    "#Prime number my logic\n",
    "def isprime():\n",
    "    input_num=int(input('Enter number to check for Prime: '))\n",
    "    \n",
    "    flag=True\n",
    "\n",
    "    for i in range(2,input_num-1):\n",
    "        if input_num%i==0 and input_num!=i:\n",
    "            flag=False\n",
    "    \n",
    "    if flag==False or input_num<0:\n",
    "        print('Not-Prime')\n",
    "    elif input_num==2:\n",
    "        print('Prime')\n",
    "    else:\n",
    "        print('Prime')\n",
    "    \n",
    "    \n",
    "isprime()\n"
   ]
  },
  {
   "cell_type": "code",
   "execution_count": 54,
   "id": "5e56a47f",
   "metadata": {},
   "outputs": [
    {
     "name": "stdout",
     "output_type": "stream",
     "text": [
      "Type 'encode' to encrypt, type 'decode' to decrypt:\n",
      "encode\n",
      "Type your message:\n",
      "abcd\n",
      "Type the shift number:\n",
      "3\n",
      "The original message was abcd\n",
      "The encypted message is  defg\n"
     ]
    }
   ],
   "source": [
    "#Caeser Cipher attempt-1\n",
    "\n",
    "alphabet = ['a', 'b', 'c', 'd', 'e', 'f', 'g', 'h', 'i', 'j', 'k', 'l', 'm', 'n', 'o', 'p', 'q', 'r', 's', 't', 'u', 'v', 'w', 'x', 'y', 'z']\n",
    "\n",
    "direction = input(\"Type 'encode' to encrypt, type 'decode' to decrypt:\\n\")\n",
    "text = input(\"Type your message:\\n\").lower()\n",
    "shift = int(input(\"Type the shift number:\\n\"))\n",
    "\n",
    "#TODO-1: Create a function called 'encrypt' that takes the 'text' and 'shift' as inputs.\n",
    "\n",
    "def encrypt():\n",
    "    if direction=='encode':\n",
    "        e_msg=[]\n",
    "        for letter in text:\n",
    "            if letter in alphabet:\n",
    "                ind=alphabet.index(letter)\n",
    "                move=ind+shift\n",
    "                e_msg += alphabet[move]\n",
    "\n",
    "        encrypted_msg=''.join(e_msg)\n",
    "\n",
    "\n",
    "        print(f'The original message was {text}')    \n",
    "        print(f'The encypted message is  {encrypted_msg}')\n",
    "        \n",
    "encrypt()    \n",
    "    "
   ]
  },
  {
   "cell_type": "code",
   "execution_count": 64,
   "id": "babbc624",
   "metadata": {},
   "outputs": [
    {
     "name": "stdout",
     "output_type": "stream",
     "text": [
      "Type 'encode' to encrypt, type 'decode' to decrypt:\n",
      "encode\n",
      "Type your message:\n",
      "wxyzabc\n",
      "Type the shift number:\n",
      "3\n",
      "The original message was wxyzabc\n",
      "The encypted message is  zabcdef\n"
     ]
    }
   ],
   "source": [
    "#Caeser Cipher attempt-2\n",
    "#This handles the 'index out or range issue'\n",
    "\n",
    "alphabet = ['a', 'b', 'c', 'd', 'e', 'f', 'g', 'h', 'i', 'j', 'k', 'l', 'm', 'n', 'o', 'p', 'q', 'r', 's', 't', 'u', 'v', 'w', 'x', 'y', 'z']\n",
    "\n",
    "direction = input(\"Type 'encode' to encrypt, type 'decode' to decrypt:\\n\")\n",
    "text = input(\"Type your message:\\n\").lower()\n",
    "shift = int(input(\"Type the shift number:\\n\"))\n",
    "\n",
    "#TODO-1: Create a function called 'encrypt' that takes the 'text' and 'shift' as inputs.\n",
    "\n",
    "def encrypt():\n",
    "    if direction=='encode':\n",
    "        e_msg=[]\n",
    "        for letter in text:\n",
    "            if letter in alphabet:\n",
    "                ind=alphabet.index(letter)\n",
    "                move=ind+shift\n",
    "                if move>=len(alphabet):\n",
    "                    travel=move-len(alphabet)\n",
    "                else:\n",
    "                    travel=ind+shift\n",
    "\n",
    "                e_msg += alphabet[travel]\n",
    "\n",
    "        encrypted_msg=''.join(e_msg)\n",
    "\n",
    "\n",
    "        print(f'The original message was {text}')    \n",
    "        print(f'The encypted message is  {encrypted_msg}')\n",
    "        \n",
    "encrypt()    \n"
   ]
  },
  {
   "cell_type": "code",
   "execution_count": 77,
   "id": "1b18b3ad",
   "metadata": {},
   "outputs": [
    {
     "name": "stdout",
     "output_type": "stream",
     "text": [
      "Type 'encode' to encrypt, type 'decode' to decrypt:\n",
      "decode\n",
      "Type your message:\n",
      "wxyzabc\n",
      "Type the shift number:\n",
      "3\n",
      "The original message was wxyzabc\n",
      "The encypted message is  tuvwxyz\n"
     ]
    }
   ],
   "source": [
    "#Caeser Cipher attempt-2\n",
    "#This handles the 'index out or range issue'\n",
    "#Also it has Decode functionality also \n",
    "\n",
    "alphabet = ['a', 'b', 'c', 'd', 'e', 'f', 'g', 'h', 'i', 'j', 'k', 'l', 'm', 'n', 'o', 'p', 'q', 'r', 's', 't', 'u', 'v', 'w', 'x', 'y', 'z']\n",
    "\n",
    "direction = input(\"Type 'encode' to encrypt, type 'decode' to decrypt:\\n\")\n",
    "text = input(\"Type your message:\\n\").lower()\n",
    "shift = int(input(\"Type the shift number:\\n\"))\n",
    "\n",
    "#TODO-1: Create a function called 'encrypt' that takes the 'text' and 'shift' as inputs.\n",
    "\n",
    "def encrypt():\n",
    "    if direction=='encode':\n",
    "        e_msg=[]\n",
    "        for letter in text:\n",
    "            if letter in alphabet:\n",
    "                ind=alphabet.index(letter)\n",
    "                move=ind+shift\n",
    "                if move>=len(alphabet):\n",
    "                    travel=move-len(alphabet)\n",
    "                else:\n",
    "                    travel=ind+shift\n",
    "\n",
    "                e_msg += alphabet[travel]\n",
    "\n",
    "        encrypted_msg=''.join(e_msg)\n",
    "\n",
    "\n",
    "        print(f'The original message was {text}')    \n",
    "        print(f'The encypted message is  {encrypted_msg}')\n",
    "        \n",
    "encrypt()    \n",
    "\n",
    "\n",
    "def decrypt():\n",
    "    if direction=='decode':\n",
    "        d_msg=[]\n",
    "        for letter in text:\n",
    "            if letter in alphabet:\n",
    "                ind=alphabet.index(letter)\n",
    "                move=ind-shift\n",
    "                if move>=0:\n",
    "                    travel=move\n",
    "                else:\n",
    "                    travel=len(alphabet)+move\n",
    "                    \n",
    "                d_msg += alphabet[travel]\n",
    "\n",
    "        decrypted_msg=''.join(d_msg)\n",
    "\n",
    "\n",
    "        print(f'The original message was {text}')    \n",
    "        print(f'The encypted message is  {decrypted_msg}')\n",
    "        \n",
    "decrypt()    \n",
    "\n"
   ]
  },
  {
   "cell_type": "code",
   "execution_count": 87,
   "id": "1c119a77",
   "metadata": {},
   "outputs": [
    {
     "name": "stdout",
     "output_type": "stream",
     "text": [
      "Type 'encode' to encrypt, type 'decode' to decrypt:\n",
      "decode\n",
      "Type your message:\n",
      "hello\n",
      "Type the shift number:\n",
      "5\n",
      "The original message was hello\n",
      "The decrypted message is  czggj\n"
     ]
    }
   ],
   "source": [
    "#Caeser Cipher attempt-3 #Not Decoding correctly\n",
    "#This handles the 'index out or range issue'\n",
    "#Also it has Decode functionality also \n",
    "\n",
    "alphabet = ['a', 'b', 'c', 'd', 'e', 'f', 'g', 'h', 'i', 'j', 'k', 'l', 'm', 'n', 'o', 'p', 'q', 'r', 's', 't', 'u', 'v', 'w', 'x', 'y', 'z']\n",
    "\n",
    "direction = input(\"Type 'encode' to encrypt, type 'decode' to decrypt:\\n\")\n",
    "text = input(\"Type your message:\\n\").lower()\n",
    "shift = int(input(\"Type the shift number:\\n\"))\n",
    "\n",
    "if direction=='encode':\n",
    "    encrypt()\n",
    "elif direction=='decode':\n",
    "    decrypt()    \n",
    "    \n",
    "#TODO-1: Create a function called 'encrypt' that takes the 'text' and 'shift' as inputs.\n",
    "\n",
    "def encrypt(): \n",
    "    e_msg=[]\n",
    "    for letter in text:\n",
    "        if letter in alphabet:\n",
    "            ind=alphabet.index(letter)\n",
    "            move=ind+shift\n",
    "            if move>=len(alphabet):\n",
    "                travel=move-len(alphabet)\n",
    "            else:\n",
    "                travel=ind+shift\n",
    "\n",
    "            e_msg += alphabet[travel]\n",
    "\n",
    "    encrypted_msg=''.join(e_msg)\n",
    "\n",
    "    print(f'The original message was {text}')    \n",
    "    print(f'The encypted message is  {encrypted_msg}')\n",
    "        \n",
    "\n",
    "def decrypt():\n",
    "    d_msg=[]\n",
    "    for letter in text:\n",
    "        if letter in alphabet:\n",
    "            ind=alphabet.index(letter)\n",
    "            move=ind-shift\n",
    "            if move>=0:\n",
    "                travel=move\n",
    "            else:\n",
    "                travel=len(alphabet)+move\n",
    "\n",
    "            d_msg += alphabet[travel]\n",
    "\n",
    "    decrypted_msg=''.join(d_msg)\n",
    "\n",
    "\n",
    "    print(f'The original message was {text}')    \n",
    "    print(f'The decrypted message is  {decrypted_msg}')\n",
    "      \n",
    "\n",
    "\n",
    "\n"
   ]
  },
  {
   "cell_type": "code",
   "execution_count": 91,
   "id": "41b007c5",
   "metadata": {},
   "outputs": [
    {
     "name": "stdout",
     "output_type": "stream",
     "text": [
      "Type 'encode' to encrypt, type 'decode' to decrypt:\n",
      "decode\n",
      "Type your message:\n",
      "mjqqt\n",
      "Type the shift number:\n",
      "5\n",
      "The decoded text is holvo\n"
     ]
    }
   ],
   "source": [
    "#New Caesar Cipher code, with bug while debug\n",
    "\n",
    "alphabet = ['a', 'b', 'c', 'd', 'e', 'f', 'g', 'h', 'i', 'j', 'k', 'l', 'm', 'n', 'o', 'p', 'q', 'r', 's', 't', 'u', 'v', 'w', 'x', 'y', 'z']\n",
    "\n",
    "direction = input(\"Type 'encode' to encrypt, type 'decode' to decrypt:\\n\")\n",
    "text = input(\"Type your message:\\n\").lower()\n",
    "shift = int(input(\"Type the shift number:\\n\"))\n",
    "\n",
    "def caesar(start_text, shift_amount, cipher_direction):\n",
    "    end_text=''\n",
    "    for letter in start_text:\n",
    "        position = alphabet.index(letter)\n",
    "        if direction=='decode':\n",
    "            shift_amount *= -1\n",
    "        new_position = position+shift_amount\n",
    "        end_text += alphabet[new_position]\n",
    "    print(f'The {direction}d text is {end_text}')\n",
    "    \n",
    "\n",
    "caesar(start_text=text, shift_amount=shift, cipher_direction=direction)\n"
   ]
  },
  {
   "cell_type": "code",
   "execution_count": 93,
   "id": "10745257",
   "metadata": {},
   "outputs": [
    {
     "name": "stdout",
     "output_type": "stream",
     "text": [
      "Type 'encode' to encrypt, type 'decode' to decrypt:\n",
      "decode\n",
      "Type your message:\n",
      "mjqqt\n",
      "Type the shift number:\n",
      "5\n",
      "The decoded text is hello\n"
     ]
    }
   ],
   "source": [
    "#Caesar Cipher code, working fine, have IndexError: list index out of range\n",
    "\n",
    "#See how function is called here with arguments\n",
    "\n",
    "alphabet = ['a', 'b', 'c', 'd', 'e', 'f', 'g', 'h', 'i', 'j', 'k', 'l', 'm', 'n', 'o', 'p', 'q', 'r', 's', 't', 'u', 'v', 'w', 'x', 'y', 'z']\n",
    "\n",
    "direction = input(\"Type 'encode' to encrypt, type 'decode' to decrypt:\\n\")\n",
    "text = input(\"Type your message:\\n\").lower()\n",
    "shift = int(input(\"Type the shift number:\\n\"))\n",
    "\n",
    "def caesar(start_text, shift_amount, cipher_direction):\n",
    "    end_text=''\n",
    "    if direction=='decode':\n",
    "        shift_amount *= -1\n",
    "    for letter in start_text:\n",
    "        position = alphabet.index(letter)\n",
    "        new_position = position+shift_amount\n",
    "        end_text += alphabet[new_position]\n",
    "    print(f'The {direction}d text is {end_text}')\n",
    "    \n",
    "\n",
    "caesar(start_text=text, shift_amount=shift, cipher_direction=direction)\n"
   ]
  },
  {
   "cell_type": "code",
   "execution_count": 99,
   "id": "9b07b86b",
   "metadata": {},
   "outputs": [
    {
     "name": "stdout",
     "output_type": "stream",
     "text": [
      "Type 'encode' to encrypt, type 'decode' to decrypt:\n",
      "encode\n",
      "Type your message:\n",
      "abcdef\n",
      "Type the shift number:\n",
      "3\n",
      "The encoded text is defghi\n",
      "Type \"Yes\" to play again, else \"No\" no\n",
      "Good bye for today\n"
     ]
    }
   ],
   "source": [
    "#Improved user expreince : Caesar Cipher code, index problem\n",
    "#See how function is called here with arguments\n",
    "\n",
    "alphabet = ['a', 'b', 'c', 'd', 'e', 'f', 'g', 'h', 'i', 'j', 'k', 'l', 'm', 'n', 'o', 'p', 'q', 'r', 's', 't', 'u', 'v', 'w', 'x', 'y', 'z']\n",
    "\n",
    "def caesar(start_text, shift_amount, cipher_direction):\n",
    "    end_text=''\n",
    "    if direction=='decode':\n",
    "        shift_amount *= -1\n",
    "    for letter in start_text:\n",
    "        position = alphabet.index(letter)\n",
    "        new_position = position+shift_amount \n",
    "        end_text += alphabet[new_position]\n",
    "    print(f'The {direction}d text is {end_text}')\n",
    "    \n",
    "\n",
    "should_continue=True\n",
    "while should_continue:\n",
    "    direction = input(\"Type 'encode' to encrypt, type 'decode' to decrypt:\\n\")\n",
    "    text = input(\"Type your message:\\n\").lower()\n",
    "    shift = int(input(\"Type the shift number:\\n\"))\n",
    "\n",
    "    caesar(start_text=text, shift_amount=shift, cipher_direction=direction)\n",
    "    \n",
    "    result=input('Type \"Yes\" to play again, else \"No\" ')\n",
    "    if result.lower()=='no':\n",
    "        should_continue=False\n",
    "        print('Good bye for today')\n",
    "        \n",
    "    \n",
    "    \n"
   ]
  },
  {
   "cell_type": "code",
   "execution_count": 101,
   "id": "0a3d57eb",
   "metadata": {},
   "outputs": [
    {
     "name": "stdout",
     "output_type": "stream",
     "text": [
      "Type 'encode' to encrypt, type 'decode' to decrypt:\n",
      "encode\n",
      "Type your message:\n",
      "abcdxyz\n",
      "Type the shift number:\n",
      "3\n",
      "The encoded text is defgabc\n",
      "Type \"Yes\" to play again, else \"No\" yes\n",
      "Type 'encode' to encrypt, type 'decode' to decrypt:\n",
      "decode\n",
      "Type your message:\n",
      "defgabc\n",
      "Type the shift number:\n",
      "3\n",
      "The decoded text is abcdxyz\n",
      "Type \"Yes\" to play again, else \"No\" no\n",
      "Good bye for today\n"
     ]
    }
   ],
   "source": [
    "#Improved user expreince : Caesar Cipher code, working fine\n",
    "#See how function is called here with arguments\n",
    "\n",
    "alphabet = ['a', 'b', 'c', 'd', 'e', 'f', 'g', 'h', 'i', 'j', 'k', 'l', 'm', 'n', 'o', 'p', 'q', 'r', 's', 't', 'u', 'v', 'w', 'x', 'y', 'z']\n",
    "\n",
    "def caesar(start_text, shift_amount, cipher_direction):\n",
    "    end_text=''\n",
    "    if direction=='decode':\n",
    "        shift_amount *= -1\n",
    "    for letter in start_text:\n",
    "        position = alphabet.index(letter)\n",
    "        new_position = position+shift_amount \n",
    "        if new_position>=len(alphabet):\n",
    "            new_position = new_position-len(alphabet)\n",
    "        elif new_position<0:\n",
    "            new_position=len(alphabet)+new_position\n",
    "\n",
    "        end_text += alphabet[new_position]\n",
    "    print(f'The {direction}d text is {end_text}')\n",
    "    \n",
    "\n",
    "should_continue=True\n",
    "while should_continue:\n",
    "    direction = input(\"Type 'encode' to encrypt, type 'decode' to decrypt:\\n\")\n",
    "    text = input(\"Type your message:\\n\").lower()\n",
    "    shift = int(input(\"Type the shift number:\\n\"))\n",
    "\n",
    "    caesar(start_text=text, shift_amount=shift, cipher_direction=direction)\n",
    "    \n",
    "    result=input('Type \"Yes\" to play again, else \"No\" ')\n",
    "    if result.lower()=='no':\n",
    "        should_continue=False\n",
    "        print('Good bye for today')\n",
    "        "
   ]
  },
  {
   "cell_type": "code",
   "execution_count": 104,
   "id": "8a3cf6bf",
   "metadata": {},
   "outputs": [
    {
     "name": "stdout",
     "output_type": "stream",
     "text": [
      "Type 'encode' to encrypt, type 'decode' to decrypt:\n",
      "decode\n",
      "Type your message:\n",
      "abcxyz\n",
      "Type the shift number:\n",
      "3\n",
      "The decoded text is xyzuvw\n",
      "Type \"Yes\" to play again, else \"No\" no\n",
      "Good bye for today\n"
     ]
    }
   ],
   "source": [
    "#Improved user expreince : Caesar Cipher code, working fine\n",
    "#See how function is called here with arguments\n",
    "#Add more than 26 shift \n",
    "#Add special characters\n",
    "\n",
    "alphabet = ['a', 'b', 'c', 'd', 'e', 'f', 'g', 'h', 'i', 'j', 'k', 'l', 'm', 'n', 'o', 'p', 'q', 'r', 's', 't', 'u', 'v', 'w', 'x', 'y', 'z']\n",
    "\n",
    "def caesar(start_text, shift_amount, cipher_direction):\n",
    "    end_text=''\n",
    "    if direction=='decode':\n",
    "        shift_amount *= -1\n",
    "    for letter in start_text:\n",
    "        position = alphabet.index(letter)\n",
    "        new_position = position+shift_amount \n",
    "        if new_position>=len(alphabet):\n",
    "            new_position = new_position-len(alphabet)\n",
    "        elif new_position<0:\n",
    "            new_position=len(alphabet)+new_position\n",
    "\n",
    "        end_text += alphabet[new_position]\n",
    "    print(f'The {direction}d text is {end_text}')\n",
    "    \n",
    "\n",
    "should_continue=True\n",
    "while should_continue:\n",
    "    direction = input(\"Type 'encode' to encrypt, type 'decode' to decrypt:\\n\")\n",
    "    text = input(\"Type your message:\\n\").lower()\n",
    "    shift = int(input(\"Type the shift number:\\n\"))\n",
    "    \n",
    "    if shift>26:\n",
    "        shift=shift%26\n",
    "\n",
    "    caesar(start_text=text, shift_amount=shift, cipher_direction=direction)\n",
    "    \n",
    "    result=input('Type \"Yes\" to play again, else \"No\" ')\n",
    "    if result.lower()=='no':\n",
    "        should_continue=False\n",
    "        print('Good bye for today')"
   ]
  },
  {
   "cell_type": "code",
   "execution_count": 105,
   "id": "3bee4573",
   "metadata": {},
   "outputs": [
    {
     "name": "stdout",
     "output_type": "stream",
     "text": [
      "Trust The Process\n",
      "Huraah Day-8 is now Completed\n"
     ]
    }
   ],
   "source": [
    "print('Trust The Process\\nHuraah Day-8 is now Completed')"
   ]
  }
 ],
 "metadata": {
  "kernelspec": {
   "display_name": "Python 3 (ipykernel)",
   "language": "python",
   "name": "python3"
  },
  "language_info": {
   "codemirror_mode": {
    "name": "ipython",
    "version": 3
   },
   "file_extension": ".py",
   "mimetype": "text/x-python",
   "name": "python",
   "nbconvert_exporter": "python",
   "pygments_lexer": "ipython3",
   "version": "3.11.2"
  }
 },
 "nbformat": 4,
 "nbformat_minor": 5
}
