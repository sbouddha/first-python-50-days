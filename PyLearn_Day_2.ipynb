{
 "cells": [
  {
   "cell_type": "code",
   "execution_count": 1,
   "id": "c323e28c",
   "metadata": {},
   "outputs": [
    {
     "name": "stdout",
     "output_type": "stream",
     "text": [
      "Welcome to Day-2 of the Python Course\n",
      "We will learn Data-Types and how to manipulate the strings\n"
     ]
    }
   ],
   "source": [
    "print ('Welcome to Day-2 of the Python Course')\n",
    "print ('We will learn Data-Types and how to manipulate the strings')"
   ]
  },
  {
   "cell_type": "code",
   "execution_count": 2,
   "id": "f066d2b4",
   "metadata": {},
   "outputs": [
    {
     "name": "stdout",
     "output_type": "stream",
     "text": [
      "d\n"
     ]
    }
   ],
   "source": [
    "print ('Siddharth'[2])"
   ]
  },
  {
   "cell_type": "code",
   "execution_count": 3,
   "id": "6491e9a5",
   "metadata": {},
   "outputs": [
    {
     "name": "stdout",
     "output_type": "stream",
     "text": [
      "h\n"
     ]
    }
   ],
   "source": [
    "print ('Siddharth'[-1])"
   ]
  },
  {
   "cell_type": "code",
   "execution_count": 4,
   "id": "1d4879e3",
   "metadata": {},
   "outputs": [
    {
     "name": "stdout",
     "output_type": "stream",
     "text": [
      "t\n"
     ]
    }
   ],
   "source": [
    "print ('Siddharth'[-2])"
   ]
  },
  {
   "cell_type": "code",
   "execution_count": 5,
   "id": "0840e69b",
   "metadata": {},
   "outputs": [
    {
     "name": "stdout",
     "output_type": "stream",
     "text": [
      "7\n"
     ]
    }
   ],
   "source": [
    "#Just numbers addition\n",
    "print (2+5)"
   ]
  },
  {
   "cell_type": "code",
   "execution_count": 6,
   "id": "722e4f51",
   "metadata": {},
   "outputs": [
    {
     "name": "stdout",
     "output_type": "stream",
     "text": [
      "25\n"
     ]
    }
   ],
   "source": [
    "#String Addition\n",
    "print('2'+'5')"
   ]
  },
  {
   "cell_type": "code",
   "execution_count": 7,
   "id": "fb36751c",
   "metadata": {},
   "outputs": [],
   "source": [
    "#float 3.14\n",
    "#Boolean is either True or False"
   ]
  },
  {
   "cell_type": "code",
   "execution_count": 8,
   "id": "d7e13a79",
   "metadata": {},
   "outputs": [
    {
     "name": "stdout",
     "output_type": "stream",
     "text": [
      "3\n"
     ]
    }
   ],
   "source": [
    "print(len('256'))"
   ]
  },
  {
   "cell_type": "code",
   "execution_count": 9,
   "id": "d62ba93f",
   "metadata": {},
   "outputs": [
    {
     "name": "stdout",
     "output_type": "stream",
     "text": [
      "What is your name? Sid\n",
      "Your name has 3 characters\n"
     ]
    }
   ],
   "source": [
    "num_char=len(input('What is your name? '))\n",
    "print('Your name has ' +  str(num_char) + ' characters')"
   ]
  },
  {
   "cell_type": "code",
   "execution_count": 10,
   "id": "322fdcb9",
   "metadata": {},
   "outputs": [
    {
     "name": "stdout",
     "output_type": "stream",
     "text": [
      "The Datatype of a is <class 'int'>\n",
      "<class 'float'>\n",
      "<class 'str'>\n"
     ]
    }
   ],
   "source": [
    "a= 123\n",
    "print ('The Datatype of a is ' + str(type(a)))\n",
    "b= 123.23\n",
    "print (type(b))\n",
    "c=\"Sid\"\n",
    "print(type(c))"
   ]
  },
  {
   "cell_type": "code",
   "execution_count": 11,
   "id": "587ff283",
   "metadata": {},
   "outputs": [
    {
     "name": "stdout",
     "output_type": "stream",
     "text": [
      "<class 'int'>\n",
      "<class 'str'>\n",
      "123145\n"
     ]
    }
   ],
   "source": [
    "#Type function is very important to find the datatype discrepencies \n",
    "a=123\n",
    "b='145'\n",
    "print(type(a))\n",
    "print(type(b))\n",
    "print(str(a)+b)"
   ]
  },
  {
   "cell_type": "code",
   "execution_count": 12,
   "id": "12d50126",
   "metadata": {},
   "outputs": [
    {
     "name": "stdout",
     "output_type": "stream",
     "text": [
      "<class 'int'>\n",
      "<class 'str'>\n",
      "268\n"
     ]
    }
   ],
   "source": [
    "#Type function is very important to find the datatype discrepencies \n",
    "a=123\n",
    "b='145'\n",
    "print(type(a))\n",
    "print(type(b))\n",
    "print(a+int(b))"
   ]
  },
  {
   "cell_type": "code",
   "execution_count": 13,
   "id": "bb1889e4",
   "metadata": {},
   "outputs": [
    {
     "name": "stdout",
     "output_type": "stream",
     "text": [
      "Enter any 2 digit number25\n",
      "The Data Type of entered value is <class 'str'>\n",
      "First Digit is 2\n",
      "Second Digit is 5\n",
      "7\n"
     ]
    }
   ],
   "source": [
    "#Program to add digits from a number, for example 25 should result in 2+5 = 7\n",
    "num=(input('Enter any 2 digit number'))\n",
    "print('The Data Type of entered value is ' + str(type(num)))\n",
    "first_digit = num[0]\n",
    "second_digit = num[1]\n",
    "print('First Digit is '+first_digit)\n",
    "print('Second Digit is '+second_digit)\n",
    "summation = int(first_digit) + int(second_digit) \n",
    "print(summation)"
   ]
  },
  {
   "cell_type": "code",
   "execution_count": 14,
   "id": "29459df8",
   "metadata": {},
   "outputs": [
    {
     "name": "stdout",
     "output_type": "stream",
     "text": [
      "Enter any 2 digit numnber 25\n",
      "The sum of the digits is 7\n"
     ]
    }
   ],
   "source": [
    "#Program to add digits from a number, for example 25 should result in 2+5 = 7\n",
    "num = (input('Enter any 2 digit numnber '))\n",
    "summation = int(num[0])+int(num[1])\n",
    "print('The sum of the digits is '+ str(summation))"
   ]
  },
  {
   "cell_type": "code",
   "execution_count": 15,
   "id": "ea56a434",
   "metadata": {},
   "outputs": [
    {
     "name": "stdout",
     "output_type": "stream",
     "text": [
      "2.0\n"
     ]
    }
   ],
   "source": [
    "#Division always result in float\n",
    "print(6/3)"
   ]
  },
  {
   "cell_type": "code",
   "execution_count": 16,
   "id": "2db3b414",
   "metadata": {},
   "outputs": [
    {
     "name": "stdout",
     "output_type": "stream",
     "text": [
      "8\n"
     ]
    }
   ],
   "source": [
    "#** means power to\n",
    "print(2**3)"
   ]
  },
  {
   "cell_type": "code",
   "execution_count": 17,
   "id": "120b99a1",
   "metadata": {},
   "outputs": [
    {
     "name": "stdout",
     "output_type": "stream",
     "text": [
      "7.0\n"
     ]
    }
   ],
   "source": [
    "#PEMDAS\n",
    "print(3*3+3/3-3)"
   ]
  },
  {
   "cell_type": "code",
   "execution_count": 27,
   "id": "932b023a",
   "metadata": {},
   "outputs": [
    {
     "name": "stdout",
     "output_type": "stream",
     "text": [
      "Enter your Weight in KGs 80\n",
      "Enter your Height in Meters 1.75\n",
      "Your BMI is 26.122448979591837\n",
      "Your BMI in whole number is 26\n"
     ]
    }
   ],
   "source": [
    "#Body Mass Index\n",
    "#BMI = Weight in KG / Height square (in Meter)\n",
    "Weight = float(input('Enter your Weight in KGs '))\n",
    "Height = float(input('Enter your Height in Meters '))\n",
    "BMI = Weight/(Height**2)\n",
    "print('Your BMI is ' + str(BMI))\n",
    "BMI_AS_INT=int(BMI)\n",
    "print('Your BMI in whole number is ' + str(BMI_AS_INT))"
   ]
  },
  {
   "cell_type": "code",
   "execution_count": 33,
   "id": "171d3f63",
   "metadata": {},
   "outputs": [
    {
     "name": "stdout",
     "output_type": "stream",
     "text": [
      "2.6666666666666665\n",
      "3\n",
      "2.67\n"
     ]
    }
   ],
   "source": [
    "#Rounding Numbers\n",
    "num=8/3\n",
    "print(num)\n",
    "print(round(num))\n",
    "print(round(num,2)) #To round to 2 decimal places"
   ]
  },
  {
   "cell_type": "code",
   "execution_count": 37,
   "id": "f585482e",
   "metadata": {},
   "outputs": [
    {
     "name": "stdout",
     "output_type": "stream",
     "text": [
      "2\n",
      "<class 'int'>\n"
     ]
    }
   ],
   "source": [
    "print(8//3)\n",
    "print(type((8//3)))"
   ]
  },
  {
   "cell_type": "code",
   "execution_count": 47,
   "id": "87ee33d0",
   "metadata": {},
   "outputs": [
    {
     "name": "stdout",
     "output_type": "stream",
     "text": [
      "8\n",
      "Now the divide value is 4\n"
     ]
    }
   ],
   "source": [
    "#To print number without making them String first\n",
    "num=8\n",
    "print(num)\n",
    "num=num/2\n",
    "print('Now the divide value is %d'  %num)"
   ]
  },
  {
   "cell_type": "code",
   "execution_count": 48,
   "id": "25b99e35",
   "metadata": {},
   "outputs": [
    {
     "name": "stdout",
     "output_type": "stream",
     "text": [
      "8\n",
      "Now the divide value is 2.666667\n"
     ]
    }
   ],
   "source": [
    "#To print number without making them String first\n",
    "num=8\n",
    "print(num)\n",
    "num=num/3\n",
    "print('Now the divide value is %f'  %num)"
   ]
  },
  {
   "cell_type": "code",
   "execution_count": 51,
   "id": "524cd376",
   "metadata": {},
   "outputs": [
    {
     "name": "stdout",
     "output_type": "stream",
     "text": [
      "your score is 0, your height is 1.8, you are winning is True\n"
     ]
    }
   ],
   "source": [
    "#Learn F-string, it is important\n",
    "score=0\n",
    "height=1.8\n",
    "isWinning=True\n",
    "#implementing f-string\n",
    "print(f'your score is {score}, your height is {height}, you are winning is {isWinning}')"
   ]
  },
  {
   "cell_type": "markdown",
   "id": "86f50582",
   "metadata": {},
   "source": [
    "More \n"
   ]
  },
  {
   "cell_type": "code",
   "execution_count": 56,
   "id": "ee154001",
   "metadata": {},
   "outputs": [
    {
     "name": "stdout",
     "output_type": "stream",
     "text": [
      "Enter your weight in kg: 68\n",
      "Enter your height in meters: 1.73\n",
      "Your rounded BMI is 22.72\n"
     ]
    }
   ],
   "source": [
    "#More practice on f-string using BMI calculator\n",
    "weight=float(input('Enter your weight in kg: '))\n",
    "height=float(input('Enter your height in meters: '))\n",
    "bmi= weight/(height**2)\n",
    "bmi_rounded=round(bmi,2)\n",
    "print(f'Your rounded BMI is {bmi_rounded}')\n"
   ]
  },
  {
   "cell_type": "code",
   "execution_count": 60,
   "id": "ebb9a438",
   "metadata": {},
   "outputs": [
    {
     "name": "stdout",
     "output_type": "stream",
     "text": [
      "Enter your current age: 33\n",
      " Your Years Remaining are: 57.0\n",
      " Your Months Remaining are: 693.5\n",
      " Your Weeks Remaining are: 2972.1428571428573\n",
      " Your Days  Remaining are: 20805\n"
     ]
    }
   ],
   "source": [
    "#How many Days Left Code, wrong code\n",
    "current_age = float(input('Enter your current age: ' ))\n",
    "days_lived = int(current_age*365)\n",
    "days_remaining = (365*90)-(days_lived)\n",
    "months_remaining = (days_remaining/30)\n",
    "weeks_remaining = (days_remaining/7)\n",
    "years_remaining = (days_remaining/365)\n",
    "print(f' Your Years Remaining are: {years_remaining}')\n",
    "print(f' Your Months Remaining are: {months_remaining}')\n",
    "print(f' Your Weeks Remaining are: {weeks_remaining}')\n",
    "print(f' Your Days  Remaining are: {days_remaining}')"
   ]
  },
  {
   "cell_type": "code",
   "execution_count": 61,
   "id": "11dc3cc0",
   "metadata": {},
   "outputs": [
    {
     "name": "stdout",
     "output_type": "stream",
     "text": [
      "Enter your current age: 33\n",
      " Your Years Remaining are: 57.0\n",
      " Your Months Remaining are: 693.50\n",
      " Your Weeks Remaining are: 2972.14\n",
      " Your Days  Remaining are: 20805\n"
     ]
    }
   ],
   "source": [
    "#How many Days Left Code, with proper decimal values, wrong code\n",
    "current_age = float(input('Enter your current age: ' ))\n",
    "days_lived = int(current_age*365)\n",
    "days_remaining = (365*90)-(days_lived)\n",
    "months_remaining = (days_remaining/30)\n",
    "weeks_remaining = (days_remaining/7)\n",
    "years_remaining = (days_remaining/365)\n",
    "print(f' Your Years Remaining are: {years_remaining}')\n",
    "print(f' Your Months Remaining are: {months_remaining:.2f}')\n",
    "print(f' Your Weeks Remaining are: {weeks_remaining:.2f}')\n",
    "print(f' Your Days  Remaining are: {days_remaining}')"
   ]
  },
  {
   "cell_type": "code",
   "execution_count": 67,
   "id": "22d58097",
   "metadata": {},
   "outputs": [
    {
     "name": "stdout",
     "output_type": "stream",
     "text": [
      "Enter your current age: 56\n",
      "You have 12410 days, 1773 weeks, 414 months left\n"
     ]
    }
   ],
   "source": [
    "#How many Days Left Code, with proper decimal values, wrong code\n",
    "current_age = float(input('Enter your current age: ' ))\n",
    "days_lived = int(current_age*365)\n",
    "days_remaining = (365*90)-(days_lived)\n",
    "months_remaining = (days_remaining/30)\n",
    "weeks_remaining = (days_remaining/7)\n",
    "years_remaining = (days_remaining/365)\n",
    "\n",
    "print(f'You have {days_remaining} days, {weeks_remaining:.0f} weeks, {months_remaining:.0f} months left')"
   ]
  },
  {
   "cell_type": "code",
   "execution_count": 70,
   "id": "56500483",
   "metadata": {},
   "outputs": [
    {
     "name": "stdout",
     "output_type": "stream",
     "text": [
      "Enter your current age: 56\n",
      "You have 12410 days, 1768 weeks, 408 months left\n"
     ]
    }
   ],
   "source": [
    "#How many Days Left Code, with proper decimal values, correct now\n",
    "current_age = float(input('Enter your current age: ' ))\n",
    "days_lived = int(current_age*365)\n",
    "\n",
    "days_remaining = (365*90)-(days_lived)\n",
    "\n",
    "years_remaining = (90-current_age)\n",
    "months_remaining = years_remaining*12\n",
    "weeks_remaining = years_remaining*52\n",
    "\n",
    "\n",
    "\n",
    "print(f'You have {days_remaining} days, {weeks_remaining:.0f} weeks, {months_remaining:.0f} months left')"
   ]
  },
  {
   "cell_type": "code",
   "execution_count": 75,
   "id": "0a6a95f6",
   "metadata": {},
   "outputs": [
    {
     "name": "stdout",
     "output_type": "stream",
     "text": [
      "What was the Total Bill? NOK: 124.56\n",
      "What percent tip would you loke to give? 10,12, or 15? : 12\n",
      "How many people to split the bill? : 7\n",
      "Each person should pay: NOK 19.93\n"
     ]
    }
   ],
   "source": [
    "#New Code : Tip Calculator\n",
    "Bill_Before_Tip = float(input('What was the Total Bill? NOK: '))\n",
    "Bill_Tip_Prcnt = float(input ('What percent tip would you loke to give? 10,12, or 15? : '))\n",
    "Num_Of_People = float(input('How many people to split the bill? : '))\n",
    "\n",
    "Bill_Per_Head = round(((Bill_Before_Tip+((Bill_Before_Tip*Bill_Tip_Prcnt)/100))/Num_Of_People),2)\n",
    "\n",
    "print(f'Each person should pay: NOK {Bill_Per_Head}')"
   ]
  },
  {
   "cell_type": "code",
   "execution_count": 76,
   "id": "15910b6c",
   "metadata": {},
   "outputs": [
    {
     "name": "stdout",
     "output_type": "stream",
     "text": [
      "Hurrah!!! Day-2 Completed\n"
     ]
    }
   ],
   "source": [
    "print('Hurrah!!! Day-2 Completed')"
   ]
  }
 ],
 "metadata": {
  "kernelspec": {
   "display_name": "Python 3 (ipykernel)",
   "language": "python",
   "name": "python3"
  },
  "language_info": {
   "codemirror_mode": {
    "name": "ipython",
    "version": 3
   },
   "file_extension": ".py",
   "mimetype": "text/x-python",
   "name": "python",
   "nbconvert_exporter": "python",
   "pygments_lexer": "ipython3",
   "version": "3.11.2"
  }
 },
 "nbformat": 4,
 "nbformat_minor": 5
}
