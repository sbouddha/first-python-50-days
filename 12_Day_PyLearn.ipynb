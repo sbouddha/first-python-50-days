{
 "cells": [
  {
   "cell_type": "code",
   "execution_count": 1,
   "id": "0ab1d094",
   "metadata": {},
   "outputs": [
    {
     "name": "stdout",
     "output_type": "stream",
     "text": [
      "Trust The Process\n",
      "This is Day-12\n",
      "Today we will learn about Varibale Scopes and make Number Guessing Game  :)\n"
     ]
    }
   ],
   "source": [
    "print('Trust The Process\\nThis is Day-12\\nToday we will learn about Varibale Scopes and make Number Guessing Game  :)')"
   ]
  },
  {
   "cell_type": "code",
   "execution_count": 2,
   "id": "2040265b",
   "metadata": {},
   "outputs": [
    {
     "name": "stdout",
     "output_type": "stream",
     "text": [
      "enemies inside function: 2\n",
      "enemies outside function: 1\n"
     ]
    }
   ],
   "source": [
    "################### Scope ####################\n",
    "\n",
    "enemies = 1\n",
    "\n",
    "def increase_enemies():\n",
    "    enemies = 2\n",
    "    print(f\"enemies inside function: {enemies}\")\n",
    "\n",
    "increase_enemies()\n",
    "print(f\"enemies outside function: {enemies}\")\n",
    "\n",
    "\n"
   ]
  },
  {
   "cell_type": "code",
   "execution_count": 3,
   "id": "666f14e6",
   "metadata": {},
   "outputs": [
    {
     "name": "stdout",
     "output_type": "stream",
     "text": [
      " Inside : The name is Bond, James Bond\n"
     ]
    },
    {
     "ename": "NameError",
     "evalue": "name 'the_name' is not defined",
     "output_type": "error",
     "traceback": [
      "\u001b[1;31m---------------------------------------------------------------------------\u001b[0m",
      "\u001b[1;31mNameError\u001b[0m                                 Traceback (most recent call last)",
      "Cell \u001b[1;32mIn[3], line 7\u001b[0m\n\u001b[0;32m      4\u001b[0m     \u001b[38;5;28mprint\u001b[39m(\u001b[38;5;124mf\u001b[39m\u001b[38;5;124m'\u001b[39m\u001b[38;5;124m Inside : \u001b[39m\u001b[38;5;132;01m{\u001b[39;00mthe_name\u001b[38;5;132;01m}\u001b[39;00m\u001b[38;5;124m'\u001b[39m)\n\u001b[0;32m      6\u001b[0m bond()\n\u001b[1;32m----> 7\u001b[0m \u001b[38;5;28mprint\u001b[39m(\u001b[38;5;124mf\u001b[39m\u001b[38;5;124m'\u001b[39m\u001b[38;5;124m Outside : \u001b[39m\u001b[38;5;132;01m{\u001b[39;00m\u001b[43mthe_name\u001b[49m\u001b[38;5;132;01m}\u001b[39;00m\u001b[38;5;124m'\u001b[39m)\n",
      "\u001b[1;31mNameError\u001b[0m: name 'the_name' is not defined"
     ]
    }
   ],
   "source": [
    "#Local Scope\n",
    "def bond():\n",
    "    the_name='The name is Bond, James Bond'\n",
    "    print(f' Inside : {the_name}')\n",
    "\n",
    "bond()\n",
    "print(f' Outside : {the_name}')\n"
   ]
  },
  {
   "cell_type": "code",
   "execution_count": 8,
   "id": "fbda31a1",
   "metadata": {},
   "outputs": [
    {
     "name": "stdout",
     "output_type": "stream",
     "text": [
      " Inside : The name is Bond, James Bond\n",
      " Outside : The name is Bond, James Bond\n"
     ]
    }
   ],
   "source": [
    "#Global Scope, way 1\n",
    "#Defining outside the function, at the top\n",
    "\n",
    "the_name='The name is Bond, James Bond'\n",
    "\n",
    "def bond():\n",
    "    print(f' Inside : {the_name}')\n",
    "\n",
    "bond()\n",
    "print(f' Outside : {the_name}')"
   ]
  },
  {
   "cell_type": "code",
   "execution_count": 7,
   "id": "932369d6",
   "metadata": {},
   "outputs": [
    {
     "name": "stdout",
     "output_type": "stream",
     "text": [
      " Inside : The name is Bond, James Bond\n",
      " Outside : The name is Bond, James Bond\n"
     ]
    }
   ],
   "source": [
    "#Local Scope, way 2\n",
    "#Defining inside any function, with 'global' keyword\n",
    "\n",
    "def bond():\n",
    "    global the_name\n",
    "    the_name='The name is Bond, James Bond'\n",
    "    print(f' Inside : {the_name}')\n",
    "\n",
    "bond()\n",
    "print(f' Outside : {the_name}')\n"
   ]
  },
  {
   "cell_type": "code",
   "execution_count": 11,
   "id": "57d17ffa",
   "metadata": {},
   "outputs": [
    {
     "ename": "UnboundLocalError",
     "evalue": "cannot access local variable 'number' where it is not associated with a value",
     "output_type": "error",
     "traceback": [
      "\u001b[1;31m---------------------------------------------------------------------------\u001b[0m",
      "\u001b[1;31mUnboundLocalError\u001b[0m                         Traceback (most recent call last)",
      "Cell \u001b[1;32mIn[11], line 8\u001b[0m\n\u001b[0;32m      4\u001b[0m     number \u001b[38;5;241m+\u001b[39m\u001b[38;5;241m=\u001b[39m \u001b[38;5;241m1\u001b[39m\n\u001b[0;32m      5\u001b[0m     \u001b[38;5;28mprint\u001b[39m(\u001b[38;5;124mf\u001b[39m\u001b[38;5;124m'\u001b[39m\u001b[38;5;124mInside \u001b[39m\u001b[38;5;132;01m{\u001b[39;00mnumber\u001b[38;5;132;01m}\u001b[39;00m\u001b[38;5;124m'\u001b[39m)\n\u001b[1;32m----> 8\u001b[0m \u001b[43mincrease_1\u001b[49m\u001b[43m(\u001b[49m\u001b[43m)\u001b[49m\n\u001b[0;32m      9\u001b[0m \u001b[38;5;28mprint\u001b[39m(\u001b[38;5;124mf\u001b[39m\u001b[38;5;124m'\u001b[39m\u001b[38;5;124mOutside \u001b[39m\u001b[38;5;132;01m{\u001b[39;00mnumber\u001b[38;5;132;01m}\u001b[39;00m\u001b[38;5;124m'\u001b[39m)\n",
      "Cell \u001b[1;32mIn[11], line 4\u001b[0m, in \u001b[0;36mincrease_1\u001b[1;34m()\u001b[0m\n\u001b[0;32m      3\u001b[0m \u001b[38;5;28;01mdef\u001b[39;00m \u001b[38;5;21mincrease_1\u001b[39m():\n\u001b[1;32m----> 4\u001b[0m     \u001b[43mnumber\u001b[49m \u001b[38;5;241m+\u001b[39m\u001b[38;5;241m=\u001b[39m \u001b[38;5;241m1\u001b[39m\n\u001b[0;32m      5\u001b[0m     \u001b[38;5;28mprint\u001b[39m(\u001b[38;5;124mf\u001b[39m\u001b[38;5;124m'\u001b[39m\u001b[38;5;124mInside \u001b[39m\u001b[38;5;132;01m{\u001b[39;00mnumber\u001b[38;5;132;01m}\u001b[39;00m\u001b[38;5;124m'\u001b[39m)\n",
      "\u001b[1;31mUnboundLocalError\u001b[0m: cannot access local variable 'number' where it is not associated with a value"
     ]
    }
   ],
   "source": [
    "number = 10\n",
    "\n",
    "def increase_1():\n",
    "    number += 1\n",
    "    print(f'Inside {number}')\n",
    "\n",
    "    \n",
    "increase_1()\n",
    "print(f'Outside {number}')\n",
    "\n"
   ]
  },
  {
   "cell_type": "code",
   "execution_count": 12,
   "id": "6d567baf",
   "metadata": {},
   "outputs": [
    {
     "name": "stdout",
     "output_type": "stream",
     "text": [
      "Inside 11\n",
      "Outside 11\n"
     ]
    }
   ],
   "source": [
    "number = 10\n",
    "\n",
    "def increase_1():\n",
    "    global number\n",
    "    number += 1\n",
    "    print(f'Inside {number}')\n",
    "\n",
    "    \n",
    "increase_1()\n",
    "print(f'Outside {number}')\n",
    "\n"
   ]
  },
  {
   "cell_type": "code",
   "execution_count": null,
   "id": "805b068a",
   "metadata": {},
   "outputs": [],
   "source": [
    "#Global Constants\n",
    "non-changeable should be CAPITAL Letters\n",
    "PI=3.1416\n",
    "URL='www.github/sbouddha'"
   ]
  },
  {
   "cell_type": "code",
   "execution_count": 22,
   "id": "32101eee",
   "metadata": {},
   "outputs": [
    {
     "name": "stdout",
     "output_type": "stream",
     "text": [
      "Welcome to the Number Guessing Game!\n",
      "I am thinking a number between 1 and 100\n",
      "Choose a difficulty. Type \"easy\" or \"hard\" hard\n",
      "You have 5 attempts remaining to guess the number\n",
      "Make a guess: 50\n",
      "Too High\n",
      "Make a guess: 25\n",
      "Too Low\n",
      "Make a guess: 35\n",
      "Too High\n",
      "Make a guess: 30\n",
      "Too Low\n",
      "Make a guess: 32\n",
      "Too High\n",
      "You have run out of guesses, You Lose\n"
     ]
    }
   ],
   "source": [
    "#Number Guessing game\n",
    "import random\n",
    "\n",
    "def comp_guess():\n",
    "    comp_num_guess=random.randint(1,100)\n",
    "    return comp_num_guess\n",
    "\n",
    "def user_guess():\n",
    "    user_num_guess=int(input('Make a guess: '))\n",
    "    return user_num_guess\n",
    "\n",
    "def difficulty_level():\n",
    "    difficulty=input('Choose a difficulty. Type \"easy\" or \"hard\" ')\n",
    "    if difficulty.lower()=='easy':\n",
    "        attempts_count=10\n",
    "        return attempts_count\n",
    "    else:\n",
    "        attempts_count=5\n",
    "        return attempts_count\n",
    "    \n",
    "\n",
    "def begin_game():\n",
    "    print('Welcome to the Number Guessing Game!')\n",
    "    print('I am thinking a number between 1 and 100')\n",
    "    comp_num=comp_guess()\n",
    "    \n",
    "    attempts_left=difficulty_level()\n",
    "    \n",
    "    print(f'You have {attempts_left} attempts remaining to guess the number')\n",
    "    \n",
    "    while attempts_left>0:\n",
    "        user_num=user_guess()\n",
    "        attempts_left -= 1\n",
    "        if user_num==comp_num:\n",
    "            print(f'You got it! The answer is {user_num} ')\n",
    "            break #This i am using first time\n",
    "        else:\n",
    "            if user_num<comp_num:\n",
    "                print('Too Low')\n",
    "            elif user_num>comp_num:\n",
    "                print('Too High')\n",
    "                \n",
    "    if attempts_left==0:\n",
    "        print('You have run out of guesses, You Lose')\n",
    "    \n",
    "    \n",
    "begin_game()  \n",
    "\n",
    "\n"
   ]
  },
  {
   "cell_type": "code",
   "execution_count": 29,
   "id": "f1722dcd",
   "metadata": {},
   "outputs": [
    {
     "name": "stdout",
     "output_type": "stream",
     "text": [
      "Trust The Process\n",
      "Huraah!!! Day-12 Completed\n"
     ]
    }
   ],
   "source": [
    "print('Trust The Process\\nHuraah!!! Day-12 Completed')"
   ]
  }
 ],
 "metadata": {
  "kernelspec": {
   "display_name": "Python 3 (ipykernel)",
   "language": "python",
   "name": "python3"
  },
  "language_info": {
   "codemirror_mode": {
    "name": "ipython",
    "version": 3
   },
   "file_extension": ".py",
   "mimetype": "text/x-python",
   "name": "python",
   "nbconvert_exporter": "python",
   "pygments_lexer": "ipython3",
   "version": "3.11.2"
  }
 },
 "nbformat": 4,
 "nbformat_minor": 5
}
