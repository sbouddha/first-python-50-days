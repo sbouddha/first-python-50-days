{
 "cells": [
  {
   "cell_type": "code",
   "execution_count": 1,
   "id": "8a23cfb9",
   "metadata": {},
   "outputs": [
    {
     "name": "stdout",
     "output_type": "stream",
     "text": [
      "Hello this Day-25, we are learning about pandas\n"
     ]
    }
   ],
   "source": [
    "print(\"Hello this Day-25, we are learning about pandas\")"
   ]
  },
  {
   "cell_type": "code",
   "execution_count": 2,
   "id": "3dd82183",
   "metadata": {},
   "outputs": [],
   "source": [
    "import pandas\n",
    "\n",
    "weather = \"C:\\Without_Sync\\Py\\python-100-days\\Day_25\\weather_data.csv\""
   ]
  },
  {
   "cell_type": "code",
   "execution_count": 5,
   "id": "bc5fa65f",
   "metadata": {},
   "outputs": [
    {
     "name": "stdout",
     "output_type": "stream",
     "text": [
      "         day  temp condition\n",
      "0     Monday    12     Sunny\n",
      "1    Tuesday    14      Rain\n",
      "2  Wednesday    15      Rain\n",
      "3   Thursday    14    Cloudy\n",
      "4     Friday    21     Sunny\n",
      "5   Saturday    22     Sunny\n",
      "6     Sunday    24     Sunny\n"
     ]
    }
   ],
   "source": [
    "data = pandas.read_csv(weather)\n",
    "print(data)"
   ]
  }
 ],
 "metadata": {
  "kernelspec": {
   "display_name": "Python 3 (ipykernel)",
   "language": "python",
   "name": "python3"
  },
  "language_info": {
   "codemirror_mode": {
    "name": "ipython",
    "version": 3
   },
   "file_extension": ".py",
   "mimetype": "text/x-python",
   "name": "python",
   "nbconvert_exporter": "python",
   "pygments_lexer": "ipython3",
   "version": "3.11.2"
  }
 },
 "nbformat": 4,
 "nbformat_minor": 5
}
