{
 "cells": [
  {
   "cell_type": "code",
   "execution_count": 1,
   "id": "3f4df8eb",
   "metadata": {},
   "outputs": [
    {
     "name": "stdout",
     "output_type": "stream",
     "text": [
      "Trust The Process\n",
      "Welcome to Day-16\n",
      "Now we are entering Intermediate Zone, all will learn some very impressive things\n",
      "Today we will learn about OOPS\n"
     ]
    }
   ],
   "source": [
    "print('Trust The Process\\nWelcome to Day-16')\n",
    "print('Now we are entering Intermediate Zone, all will learn some very impressive things')\n",
    "print('Today we will learn about OOPS')"
   ]
  },
  {
   "cell_type": "code",
   "execution_count": 2,
   "id": "1b426003",
   "metadata": {},
   "outputs": [
    {
     "name": "stdout",
     "output_type": "stream",
     "text": [
      "Uptil what we have done was Procedural Programming\n"
     ]
    }
   ],
   "source": [
    "print('Uptil what we have done was Procedural Programming')"
   ]
  },
  {
   "cell_type": "code",
   "execution_count": 3,
   "id": "6416383c",
   "metadata": {},
   "outputs": [
    {
     "name": "stdout",
     "output_type": "stream",
     "text": [
      "Try to model real life object, they have some attributes (variables) and methods (what they can do : function)\n"
     ]
    }
   ],
   "source": [
    "print('Try to model real life object, they have some attributes (variables) and methods (what they can do : function)')"
   ]
  },
  {
   "cell_type": "code",
   "execution_count": 4,
   "id": "762f72e4",
   "metadata": {},
   "outputs": [
    {
     "name": "stdout",
     "output_type": "stream",
     "text": [
      "For example, Waiter is a Class and Henry and Betty are 2 objects\n"
     ]
    }
   ],
   "source": [
    "print('For example, Waiter is a Class and Henry and Betty are 2 objects')"
   ]
  },
  {
   "cell_type": "code",
   "execution_count": 5,
   "id": "2b6faa31",
   "metadata": {},
   "outputs": [],
   "source": [
    "#carobject1=CarBlueprint()\n",
    "#Here object = Class()\n"
   ]
  },
  {
   "cell_type": "code",
   "execution_count": 6,
   "id": "69209260",
   "metadata": {},
   "outputs": [],
   "source": [
    "# from turtle import Turtle, Screen\n",
    "# #importing turtle and then object = Class()\n",
    "\n",
    "# timmy=Turtle()\n",
    "# print(timmy)\n",
    "\n",
    "# my_screen=Screen()\n",
    "# print(my_screen)"
   ]
  },
  {
   "cell_type": "code",
   "execution_count": 7,
   "id": "844ca8c1",
   "metadata": {},
   "outputs": [
    {
     "name": "stdout",
     "output_type": "stream",
     "text": [
      "Functions when Tied to an object, are called methods\n"
     ]
    }
   ],
   "source": [
    "print('Functions when Tied to an object, are called methods')"
   ]
  },
  {
   "cell_type": "code",
   "execution_count": 9,
   "id": "7e484366",
   "metadata": {},
   "outputs": [
    {
     "name": "stdout",
     "output_type": "stream",
     "text": [
      "Collecting PrettyTable\n",
      "  Downloading prettytable-3.6.0-py3-none-any.whl (27 kB)\n",
      "Requirement already satisfied: wcwidth in c:\\users\\bousid\\appdata\\local\\programs\\python\\python311\\lib\\site-packages (from PrettyTable) (0.2.6)\n",
      "Installing collected packages: PrettyTable\n",
      "Successfully installed PrettyTable-3.6.0\n"
     ]
    }
   ],
   "source": [
    "#PyPi Python Package Index\n",
    "!pip install PrettyTable\n"
   ]
  },
  {
   "cell_type": "code",
   "execution_count": 11,
   "id": "b855ebb2",
   "metadata": {},
   "outputs": [
    {
     "name": "stdout",
     "output_type": "stream",
     "text": [
      "++\n",
      "||\n",
      "++\n",
      "++\n"
     ]
    }
   ],
   "source": [
    "#Now lets use this package PrettyTable\n",
    "from prettytable import PrettyTable\n",
    "\n",
    "#create an object called Sidtable\n",
    "Sidtable=PrettyTable()\n",
    "print(Sidtable)\n",
    "\n",
    "\n"
   ]
  },
  {
   "cell_type": "code",
   "execution_count": 14,
   "id": "0c264530",
   "metadata": {
    "scrolled": true
   },
   "outputs": [
    {
     "name": "stdout",
     "output_type": "stream",
     "text": [
      "+---------------+-------------+-------------------+\n",
      "| Employee Name | Employee ID | Employee Location |\n",
      "+---------------+-------------+-------------------+\n",
      "|      John     |     101     |      New York     |\n",
      "|      Doe      |     102     |       London      |\n",
      "|      Jane     |     103     |       Paris       |\n",
      "+---------------+-------------+-------------------+\n"
     ]
    }
   ],
   "source": [
    "#Now lets use this package PrettyTable\n",
    "from prettytable import PrettyTable\n",
    "\n",
    "sidtable = PrettyTable()\n",
    "\n",
    "sidtable.add_column('Employee Name', ['John', 'Doe', 'Jane'])\n",
    "sidtable.add_column('Employee ID', [101, 102, 103])\n",
    "sidtable.add_column('Employee Location', ['New York', 'London', 'Paris'])\n",
    "\n",
    "print(sidtable)\n"
   ]
  },
  {
   "cell_type": "code",
   "execution_count": 15,
   "id": "977ad4bd",
   "metadata": {},
   "outputs": [
    {
     "name": "stdout",
     "output_type": "stream",
     "text": [
      "+--------------+----------+\n",
      "| Pokemon Name |   Type   |\n",
      "+--------------+----------+\n",
      "|   Pikachu    | Electric |\n",
      "|   Squirtle   |  Water   |\n",
      "|  Charmander  |   Fire   |\n",
      "+--------------+----------+\n"
     ]
    }
   ],
   "source": [
    "pokemon_table=PrettyTable()\n",
    "\n",
    "pokemon_table.add_column('Pokemon Name', ['Pikachu', 'Squirtle', 'Charmander'])\n",
    "pokemon_table.add_column('Type', ['Electric', 'Water', 'Fire'])\n",
    "\n",
    "print(pokemon_table)\n",
    "\n"
   ]
  },
  {
   "cell_type": "code",
   "execution_count": 18,
   "id": "260257c0",
   "metadata": {},
   "outputs": [
    {
     "name": "stdout",
     "output_type": "stream",
     "text": [
      "+--------------+----------+\n",
      "| Pokemon Name | Type     |\n",
      "+--------------+----------+\n",
      "| Pikachu      | Electric |\n",
      "| Squirtle     | Water    |\n",
      "| Charmander   | Fire     |\n",
      "+--------------+----------+\n"
     ]
    }
   ],
   "source": [
    "pokemon_table.align='l'\n",
    "print(pokemon_table)"
   ]
  },
  {
   "cell_type": "code",
   "execution_count": 19,
   "id": "a244b5d9",
   "metadata": {},
   "outputs": [
    {
     "name": "stdout",
     "output_type": "stream",
     "text": [
      "Make OOP version of the Coffe Machine\n"
     ]
    }
   ],
   "source": [
    "print('Make OOP version of the Coffe Machine')"
   ]
  },
  {
   "cell_type": "code",
   "execution_count": null,
   "id": "571618c3",
   "metadata": {},
   "outputs": [],
   "source": []
  }
 ],
 "metadata": {
  "kernelspec": {
   "display_name": "Python 3 (ipykernel)",
   "language": "python",
   "name": "python3"
  },
  "language_info": {
   "codemirror_mode": {
    "name": "ipython",
    "version": 3
   },
   "file_extension": ".py",
   "mimetype": "text/x-python",
   "name": "python",
   "nbconvert_exporter": "python",
   "pygments_lexer": "ipython3",
   "version": "3.11.2"
  }
 },
 "nbformat": 4,
 "nbformat_minor": 5
}
