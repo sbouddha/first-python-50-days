{
 "cells": [
  {
   "cell_type": "code",
   "execution_count": 3,
   "id": "721aa144",
   "metadata": {},
   "outputs": [
    {
     "name": "stdout",
     "output_type": "stream",
     "text": [
      "Trust the Process, this is Day-6\n",
      "We will learn about functions, code bolock and functions today\n"
     ]
    }
   ],
   "source": [
    "print('Trust the Process, this is Day-6\\nWe will learn about functions, code bolock and functions today')"
   ]
  },
  {
   "cell_type": "code",
   "execution_count": 9,
   "id": "af768df6",
   "metadata": {},
   "outputs": [],
   "source": [
    "#This is how you define a function \n",
    "def my_function():\n",
    "    print('This is my first function')\n",
    "    print('We will learn more')"
   ]
  },
  {
   "cell_type": "code",
   "execution_count": 10,
   "id": "11656346",
   "metadata": {},
   "outputs": [
    {
     "name": "stdout",
     "output_type": "stream",
     "text": [
      "This is my first function\n",
      "We will learn more\n"
     ]
    }
   ],
   "source": [
    "#This is how you call a function \n",
    "my_function()"
   ]
  },
  {
   "cell_type": "code",
   "execution_count": 11,
   "id": "eac857d4",
   "metadata": {},
   "outputs": [],
   "source": [
    "def func1():\n",
    "    print('This can be called')"
   ]
  },
  {
   "cell_type": "code",
   "execution_count": 12,
   "id": "f5b652ea",
   "metadata": {},
   "outputs": [
    {
     "name": "stdout",
     "output_type": "stream",
     "text": [
      "This can be called\n"
     ]
    }
   ],
   "source": [
    "func1()"
   ]
  },
  {
   "cell_type": "code",
   "execution_count": 22,
   "id": "d4845ab1",
   "metadata": {},
   "outputs": [],
   "source": [
    "def test_func():\n",
    "    print('Hello')"
   ]
  },
  {
   "cell_type": "code",
   "execution_count": 24,
   "id": "59db6bab",
   "metadata": {},
   "outputs": [],
   "source": [
    "#Learn While Loop\n",
    "#while something_is_true:\n",
    "     #Do this\n",
    "     #Do that"
   ]
  },
  {
   "cell_type": "code",
   "execution_count": 25,
   "id": "f478e142",
   "metadata": {},
   "outputs": [
    {
     "name": "stdout",
     "output_type": "stream",
     "text": [
      "Be careful using while loop as it can become infinite loop\n"
     ]
    }
   ],
   "source": [
    "print('Be careful using while loop as it can become infinite loop')"
   ]
  },
  {
   "cell_type": "code",
   "execution_count": 26,
   "id": "b4b5ca63",
   "metadata": {},
   "outputs": [
    {
     "name": "stdout",
     "output_type": "stream",
     "text": [
      "I did practice on reeborg.ca for the robot puzzles\n"
     ]
    }
   ],
   "source": [
    "print('I did practice on reeborg.ca for the robot puzzles')"
   ]
  },
  {
   "cell_type": "code",
   "execution_count": 27,
   "id": "42ece762",
   "metadata": {},
   "outputs": [
    {
     "name": "stdout",
     "output_type": "stream",
     "text": [
      "Trust the process\n",
      "Hurrah!!! Day-6 is now Completed\n"
     ]
    }
   ],
   "source": [
    "print('Trust the process\\nHurrah!!! Day-6 is now Completed')"
   ]
  }
 ],
 "metadata": {
  "kernelspec": {
   "display_name": "Python 3 (ipykernel)",
   "language": "python",
   "name": "python3"
  },
  "language_info": {
   "codemirror_mode": {
    "name": "ipython",
    "version": 3
   },
   "file_extension": ".py",
   "mimetype": "text/x-python",
   "name": "python",
   "nbconvert_exporter": "python",
   "pygments_lexer": "ipython3",
   "version": "3.11.2"
  }
 },
 "nbformat": 4,
 "nbformat_minor": 5
}
