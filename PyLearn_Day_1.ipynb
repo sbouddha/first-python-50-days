{
 "cells": [
  {
   "cell_type": "code",
   "execution_count": 5,
   "id": "684f622e",
   "metadata": {},
   "outputs": [
    {
     "name": "stdout",
     "output_type": "stream",
     "text": [
      "Don't Give up and you will learn Python in 100 days\n"
     ]
    }
   ],
   "source": [
    "print(\"Don't Give up and you will learn Python in 100 days\")"
   ]
  },
  {
   "cell_type": "code",
   "execution_count": 32,
   "id": "7a7fbded",
   "metadata": {},
   "outputs": [
    {
     "name": "stdout",
     "output_type": "stream",
     "text": [
      "Lets go !!!\n"
     ]
    }
   ],
   "source": [
    "#Day 1 and Day 2 will be done here \n",
    "print ('Lets go !!!')"
   ]
  },
  {
   "cell_type": "code",
   "execution_count": 19,
   "id": "0331ffc2",
   "metadata": {},
   "outputs": [
    {
     "name": "stdout",
     "output_type": "stream",
     "text": [
      "Hello \n",
      "World This is Sid\n"
     ]
    }
   ],
   "source": [
    "#Print Something\n",
    "print ('Hello \\nWorld'+ ' This is Sid')"
   ]
  },
  {
   "cell_type": "code",
   "execution_count": 28,
   "id": "a2af5c6a",
   "metadata": {},
   "outputs": [
    {
     "name": "stdout",
     "output_type": "stream",
     "text": [
      "What is your name?Sid\n",
      "Hi Sid\n"
     ]
    }
   ],
   "source": [
    "#Take Inputs\n",
    "name=input ('What is your name?')\n",
    "print ('Hi ' + name)"
   ]
  },
  {
   "cell_type": "code",
   "execution_count": 31,
   "id": "d965bb3f",
   "metadata": {},
   "outputs": [
    {
     "name": "stdout",
     "output_type": "stream",
     "text": [
      "What is your nameSid\n",
      "Hello Sid\n"
     ]
    }
   ],
   "source": [
    "#Take Inputs just fron the print\n",
    "print ('Hello ' + input ('What is your name'))"
   ]
  },
  {
   "cell_type": "code",
   "execution_count": 37,
   "id": "f38ca3bf",
   "metadata": {},
   "outputs": [
    {
     "name": "stdout",
     "output_type": "stream",
     "text": [
      "9\n"
     ]
    }
   ],
   "source": [
    "#Lenght Function\n",
    "print (len('Siddharth'))"
   ]
  },
  {
   "cell_type": "code",
   "execution_count": 35,
   "id": "be7085bd",
   "metadata": {},
   "outputs": [
    {
     "name": "stdout",
     "output_type": "stream",
     "text": [
      "What is your Name ? Sid\n",
      "3\n"
     ]
    }
   ],
   "source": [
    "print (len(input('What is your Name ? ')))"
   ]
  },
  {
   "cell_type": "code",
   "execution_count": 40,
   "id": "54826362",
   "metadata": {},
   "outputs": [
    {
     "name": "stdout",
     "output_type": "stream",
     "text": [
      "What is your name:Sid\n",
      "Sid\n"
     ]
    }
   ],
   "source": [
    "#Variables\n",
    "name = input ('What is your name:')\n",
    "print (name)"
   ]
  },
  {
   "cell_type": "code",
   "execution_count": 43,
   "id": "da3a82b1",
   "metadata": {},
   "outputs": [
    {
     "name": "stdout",
     "output_type": "stream",
     "text": [
      "Pratima\n"
     ]
    }
   ],
   "source": [
    "name = 'Sid'\n",
    "#print (name)\n",
    "name = 'Pratima'\n",
    "print (name)"
   ]
  },
  {
   "cell_type": "code",
   "execution_count": 48,
   "id": "5e05c680",
   "metadata": {},
   "outputs": [
    {
     "name": "stdout",
     "output_type": "stream",
     "text": [
      "Value of a is 0\n",
      "Value of b is 1\n"
     ]
    }
   ],
   "source": [
    "a = 0\n",
    "b = 1\n",
    "print ('Value of a is %d' %a)\n",
    "print ('Value of b is %d' %b)\n"
   ]
  },
  {
   "cell_type": "code",
   "execution_count": 49,
   "id": "69ecc5c7",
   "metadata": {},
   "outputs": [
    {
     "name": "stdout",
     "output_type": "stream",
     "text": [
      "Value of a is 0\n",
      "Value of b is 1\n"
     ]
    }
   ],
   "source": [
    "a = 0\n",
    "b = 1\n",
    "print ('Value of a is ' + str(a))\n",
    "print ('Value of b is ' + str(b))"
   ]
  },
  {
   "cell_type": "code",
   "execution_count": 54,
   "id": "1ff60fa7",
   "metadata": {},
   "outputs": [
    {
     "name": "stdout",
     "output_type": "stream",
     "text": [
      "Swapped Values are below\n",
      "Value of a is 1\n",
      "Value of b is 0\n"
     ]
    }
   ],
   "source": [
    "a = 0\n",
    "b = 1\n",
    "#Logic for swap\n",
    "c=a\n",
    "a=b\n",
    "b=c\n",
    "print ('Swapped Values are below')\n",
    "print ('Value of a is ' + str(a))\n",
    "print ('Value of b is ' + str(b))"
   ]
  },
  {
   "cell_type": "code",
   "execution_count": 63,
   "id": "4a992331",
   "metadata": {},
   "outputs": [
    {
     "name": "stdout",
     "output_type": "stream",
     "text": [
      "Welcome to the band name generator\n",
      "What's the name of the city you grew up in ? \n",
      "Datia\n",
      "What's your pet name \n",
      "Tyosn\n",
      "Your band name is Datia Tyosn\n"
     ]
    }
   ],
   "source": [
    "#Band Name Generator (Farzi)\n",
    "print ('Welcome to the band name generator')\n",
    "city = input (\"What's the name of the city you grew up in ? \\n\")\n",
    "pet  = input (\"What's your pet name \\n\")\n",
    "print ('Your band name is ' + city + ' ' + pet)"
   ]
  },
  {
   "cell_type": "code",
   "execution_count": 66,
   "id": "85925166",
   "metadata": {},
   "outputs": [
    {
     "name": "stdout",
     "output_type": "stream",
     "text": [
      "Hurrah !!!, Day-1 is now completed\n"
     ]
    }
   ],
   "source": [
    "print ('Hurrah !!!, Day-1 is now completed')"
   ]
  }
 ],
 "metadata": {
  "kernelspec": {
   "display_name": "Python 3 (ipykernel)",
   "language": "python",
   "name": "python3"
  },
  "language_info": {
   "codemirror_mode": {
    "name": "ipython",
    "version": 3
   },
   "file_extension": ".py",
   "mimetype": "text/x-python",
   "name": "python",
   "nbconvert_exporter": "python",
   "pygments_lexer": "ipython3",
   "version": "3.11.2"
  }
 },
 "nbformat": 4,
 "nbformat_minor": 5
}
