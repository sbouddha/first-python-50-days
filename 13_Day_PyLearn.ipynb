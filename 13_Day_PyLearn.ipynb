{
 "cells": [
  {
   "cell_type": "code",
   "execution_count": 1,
   "id": "b6b8eb17",
   "metadata": {},
   "outputs": [
    {
     "name": "stdout",
     "output_type": "stream",
     "text": [
      "Trust The Process\n",
      "This is Day-13\n",
      "Today we will learn Debugging and how to fix errors in our code  :)\n"
     ]
    }
   ],
   "source": [
    "print('Trust The Process\\nThis is Day-13\\nToday we will learn Debugging and how to fix errors in our code  :)')"
   ]
  },
  {
   "cell_type": "code",
   "execution_count": 44,
   "id": "1ce72cdb",
   "metadata": {},
   "outputs": [
    {
     "name": "stdout",
     "output_type": "stream",
     "text": [
      "You got it\n",
      "❶\n",
      "What's your year of birth?1989\n",
      "You are a millenial.\n",
      "How old are you?33\n",
      "You can drive at age 33.\n",
      "Number of pages: 25\n",
      "Number of words per page: 100\n",
      "2500\n",
      "[2, 4, 6, 10, 16, 26]\n"
     ]
    }
   ],
   "source": [
    "############DEBUGGING#####################\n",
    "\n",
    "# Describe Problem\n",
    "def my_function():\n",
    "    #for i in range(1, 20):\n",
    "    for i in range(1, 21):\n",
    "        if i == 20:\n",
    "            print(\"You got it\")\n",
    "my_function()\n",
    "\n",
    "# Reproduce the Bug\n",
    "from random import randint\n",
    "dice_imgs = [\"❶\", \"❷\", \"❸\", \"❹\", \"❺\", \"❻\"]\n",
    "#dice_num = randint(1, 6)\n",
    "dice_num = randint(0, 5)\n",
    "print(dice_imgs[dice_num])\n",
    "\n",
    "# Play Computer\n",
    "year = int(input(\"What's your year of birth?\"))\n",
    "if year > 1980 and year < 1994:\n",
    "    print(\"You are a millenial.\")\n",
    "#elif year > 1994:\n",
    "elif year >= 1994:\n",
    "    print(\"You are a Gen Z.\")\n",
    "\n",
    "# Fix the Errors\n",
    "#age = input(\"How old are you?\")\n",
    "age = int(input(\"How old are you?\"))\n",
    "if age > 18:\n",
    "    print(f\"You can drive at age {age}.\")\n",
    "\n",
    "#Print is Your Friend\n",
    "pages = 0\n",
    "word_per_page = 0\n",
    "pages = int(input(\"Number of pages: \"))\n",
    "#word_per_page == int(input(\"Number of words per page: \"))\n",
    "word_per_page = int(input(\"Number of words per page: \"))\n",
    "total_words = pages * word_per_page\n",
    "print(total_words)\n",
    "\n",
    "#Use a Debugger\n",
    "def mutate(a_list):\n",
    "    b_list = []\n",
    "    for item in a_list:\n",
    "        new_item = item * 2\n",
    "    #b_list.append(new_item)\n",
    "        b_list.append(new_item)\n",
    "    print(b_list)\n",
    "\n",
    "mutate([1,2,3,5,8,13])"
   ]
  },
  {
   "cell_type": "code",
   "execution_count": null,
   "id": "9e96df1f",
   "metadata": {},
   "outputs": [],
   "source": [
    "#Learnings:\n",
    "range(1,6) : 6 will not be included\n",
    "randint(1,6) : 6 will be included\n",
    "    "
   ]
  },
  {
   "cell_type": "code",
   "execution_count": 47,
   "id": "3c54109f",
   "metadata": {},
   "outputs": [
    {
     "name": "stdout",
     "output_type": "stream",
     "text": [
      "Which number do you want to check?20\n",
      "This is an even number.\n"
     ]
    }
   ],
   "source": [
    "#Debug Even Odd\n",
    "number = int(input(\"Which number do you want to check?\"))\n",
    "\n",
    "#if number % 2 = 0:\n",
    "if number % 2 == 0:\n",
    "    print(\"This is an even number.\")\n",
    "else:\n",
    "    print(\"This is an odd number.\")\n",
    "  \n"
   ]
  },
  {
   "cell_type": "code",
   "execution_count": 53,
   "id": "077240ea",
   "metadata": {},
   "outputs": [
    {
     "name": "stdout",
     "output_type": "stream",
     "text": [
      "Which year do you want to check?2100\n",
      "Not leap year.\n"
     ]
    }
   ],
   "source": [
    "#Debug Leap Year\n",
    "\n",
    "#year = input(\"Which year do you want to check?\")\n",
    "year = int(input(\"Which year do you want to check?\"))\n",
    "\n",
    "if year % 4 == 0:\n",
    "    if year % 100 == 0:\n",
    "        if year % 400 == 0:\n",
    "            print(\"Leap year.\")\n",
    "        else:\n",
    "            print(\"Not leap year.\")\n",
    "    else:\n",
    "        print(\"Leap year.\")\n",
    "else:\n",
    "    print(\"Not leap year.\")\n",
    "  "
   ]
  },
  {
   "cell_type": "code",
   "execution_count": 60,
   "id": "31a4d900",
   "metadata": {},
   "outputs": [
    {
     "name": "stdout",
     "output_type": "stream",
     "text": [
      "[1]\n",
      "[2]\n",
      "Fizz\n",
      "[3]\n",
      "[4]\n",
      "Buzz\n",
      "Fizz\n",
      "[6]\n",
      "[7]\n",
      "[8]\n",
      "Fizz\n",
      "[9]\n",
      "Buzz\n",
      "[11]\n",
      "Fizz\n",
      "[12]\n",
      "[13]\n",
      "[14]\n",
      "FizzBuzz\n",
      "Fizz\n",
      "Buzz\n",
      "[16]\n",
      "[17]\n",
      "Fizz\n",
      "[18]\n",
      "[19]\n",
      "Buzz\n"
     ]
    }
   ],
   "source": [
    "for number in range(1, 21):\n",
    "  #if number % 3 == 0 or number % 5 == 0:\n",
    "  if number % 3 == 0 and number % 5 == 0:\n",
    "    print(\"FizzBuzz\")\n",
    "  if number % 3 == 0:\n",
    "    print(\"Fizz\")\n",
    "  if number % 5 == 0:\n",
    "    print(\"Buzz\")\n",
    "  else:\n",
    "    print([number])"
   ]
  },
  {
   "cell_type": "code",
   "execution_count": 61,
   "id": "1635afff",
   "metadata": {},
   "outputs": [
    {
     "name": "stdout",
     "output_type": "stream",
     "text": [
      "Trust The Process\n",
      "Thank god that I did not skipped any lessons\\Give me the same wisdom throught my learning\n"
     ]
    }
   ],
   "source": [
    "print('Trust The Process\\nThank god that I did not skipped any lessons\\Give me the same wisdom throught my learning')"
   ]
  },
  {
   "cell_type": "code",
   "execution_count": 62,
   "id": "72ff7bb4",
   "metadata": {},
   "outputs": [
    {
     "name": "stdout",
     "output_type": "stream",
     "text": [
      "Huraah!!! Day-13 finished\n"
     ]
    }
   ],
   "source": [
    "print('Huraah!!! Day-13 finished')"
   ]
  }
 ],
 "metadata": {
  "kernelspec": {
   "display_name": "Python 3 (ipykernel)",
   "language": "python",
   "name": "python3"
  },
  "language_info": {
   "codemirror_mode": {
    "name": "ipython",
    "version": 3
   },
   "file_extension": ".py",
   "mimetype": "text/x-python",
   "name": "python",
   "nbconvert_exporter": "python",
   "pygments_lexer": "ipython3",
   "version": "3.11.2"
  }
 },
 "nbformat": 4,
 "nbformat_minor": 5
}
